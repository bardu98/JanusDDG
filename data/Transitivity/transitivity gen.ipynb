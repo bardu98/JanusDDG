{
 "cells": [
  {
   "cell_type": "code",
   "execution_count": 31,
   "id": "ac845ea7-37d4-4c57-81ed-dd0b239a4fa3",
   "metadata": {},
   "outputs": [],
   "source": [
    "import pandas as pd\n",
    "import random"
   ]
  },
  {
   "cell_type": "code",
   "execution_count": 45,
   "id": "3574774a-9408-4f73-8794-49047dd75b0f",
   "metadata": {},
   "outputs": [],
   "source": [
    "S_t = pd.read_csv('../Stransitive_to_process.csv')\n",
    "\n",
    "S_t['W']= S_t.apply(lambda x: x['MTS'][0], axis=1)\n",
    "S_t['POS']= S_t.apply(lambda x: x['MTS'][1:-1], axis=1)\n",
    "S_t['M']= S_t.apply(lambda x: x['MTS'][-1], axis=1)\n",
    "S_t['RANDOM'] = S_t.apply(lambda x: random_AA(), axis=1)\n",
    "\n",
    "def random_AA():\n",
    "    aa_list = \"ACDEFGHIKLMNPQRSTVWY\"\n",
    "    AA= aa_list[random.randint(0, 19)]\n",
    "    return AA\n",
    "\n",
    "def change_Seq(seq, pos, R):\n",
    "    seq = [*seq]\n",
    "    seq[int(pos) - 1] = R\n",
    "    return ''.join(seq)\n",
    "\n",
    "S_t_primo_passo =S_t.copy()\n",
    "S_t_primo_passo['MTS'] = S_t_primo_passo.apply(lambda x: x['W']+x['POS']+x['RANDOM'],axis=1)\n",
    "\n",
    "S_t_secondo_passo =S_t.copy()\n",
    "S_t_secondo_passo['MTS'] = S_t_secondo_passo.apply(lambda x: x['RANDOM']+x['POS']+x['M'], axis=1)\n",
    "S_t_secondo_passo['Sequence'] = S_t_secondo_passo.apply(lambda x: change_Seq(x['Sequence'],x['POS'],x['RANDOM']),axis=1)\n",
    "\n",
    "S_t_secondo_passo.to_csv('../Stransitive_SECONDO_RANDOM.csv')\n",
    "S_t_primo_passo.to_csv('../Stransitive_PRIMO_RANDOM.csv')\n"
   ]
  }
 ],
 "metadata": {
  "kernelspec": {
   "display_name": "Python 3 (ipykernel)",
   "language": "python",
   "name": "python3"
  },
  "language_info": {
   "codemirror_mode": {
    "name": "ipython",
    "version": 3
   },
   "file_extension": ".py",
   "mimetype": "text/x-python",
   "name": "python",
   "nbconvert_exporter": "python",
   "pygments_lexer": "ipython3",
   "version": "3.11.5"
  }
 },
 "nbformat": 4,
 "nbformat_minor": 5
}
