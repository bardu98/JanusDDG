{
 "cells": [
  {
   "cell_type": "code",
   "execution_count": 3,
   "id": "5eb853b5-7922-4a72-93d3-3740702270b4",
   "metadata": {},
   "outputs": [],
   "source": [
    "import pandas as pd\n",
    "import numpy as np\n",
    "from scipy.stats import pearsonr, spearmanr\n"
   ]
  },
  {
   "cell_type": "code",
   "execution_count": 4,
   "id": "aab0fc3a-239a-41fd-a49c-93acfbb8bafc",
   "metadata": {},
   "outputs": [
    {
     "name": "stdout",
     "output_type": "stream",
     "text": [
      "Transitivity score:  PearsonRResult(statistic=0.9766802150608211, pvalue=0.0)\n"
     ]
    }
   ],
   "source": [
    "first_step = pd.read_csv('../results/Result_Stransitive_first_random_step.csv')\n",
    "second_step = pd.read_csv('../results/Result_Stransitive_second_random_step.csv')\n",
    "\n",
    "transitivity_DDG = first_step['DDG_JanusDDG'] + second_step['DDG_JanusDDG']\n",
    "direct_DDG = pd.read_csv('../results/Result_Stransitive_to_process.csv')['DDG_JanusDDG']\n",
    "\n",
    "print('Transitivity score: ',pearsonr(transitivity_DDG,direct_DDG))"
   ]
  },
  {
   "cell_type": "code",
   "execution_count": null,
   "id": "e3277fc0-5198-4d06-8e96-8643c48733af",
   "metadata": {},
   "outputs": [],
   "source": []
  }
 ],
 "metadata": {
  "kernelspec": {
   "display_name": "Python 3 (ipykernel)",
   "language": "python",
   "name": "python3"
  },
  "language_info": {
   "codemirror_mode": {
    "name": "ipython",
    "version": 3
   },
   "file_extension": ".py",
   "mimetype": "text/x-python",
   "name": "python",
   "nbconvert_exporter": "python",
   "pygments_lexer": "ipython3",
   "version": "3.11.5"
  }
 },
 "nbformat": 4,
 "nbformat_minor": 5
}
