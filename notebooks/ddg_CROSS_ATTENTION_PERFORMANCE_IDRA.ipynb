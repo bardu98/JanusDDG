{
 "cells": [
  {
   "cell_type": "code",
   "execution_count": 1,
   "id": "80d0d193-11f5-4e42-b76f-99c49e887da8",
   "metadata": {},
   "outputs": [
    {
     "name": "stdout",
     "output_type": "stream",
     "text": [
      "2.4.1+cu118\n"
     ]
    }
   ],
   "source": [
    "import pandas as pd\n",
    "import numpy as np\n",
    "import torch\n",
    "from torch_geometric.data import Data\n",
    "import pickle\n",
    "import seaborn as sns\n",
    "\n",
    "from torch_geometric.utils import to_networkx\n",
    "#install required packages\n",
    "import os\n",
    "import torch\n",
    "os.environ['TORCH'] = torch.__version__\n",
    "print(torch.__version__)\n",
    "# Helper function for visualization.\n",
    "%matplotlib inline\n",
    "import networkx as nx\n",
    "import matplotlib.pyplot as plt\n",
    "\n",
    "from torch_geometric.data import Dataset\n",
    "import torch_geometric.utils as pyg_utils\n",
    "import torch.nn.functional as F\n",
    "from torch_geometric.nn import GCNConv, global_mean_pool,GATv2Conv\n",
    "from torch_geometric.nn.models import GCN, GAT\n",
    "from torch.nn import Linear\n",
    "\n",
    "from torch_geometric.utils import degree\n",
    "\n",
    "import torch.nn as nn\n",
    "from torch_geometric.utils import softmax\n",
    "import math\n",
    "from sklearn.metrics import mean_squared_error\n",
    "from scipy.stats import pearsonr, spearmanr\n",
    "import random\n",
    "from sklearn.metrics import root_mean_squared_error,mean_absolute_error\n",
    "from torch.utils.data import DataLoader, Dataset, SubsetRandomSampler\n",
    "import esm"
   ]
  },
  {
   "cell_type": "code",
   "execution_count": 2,
   "id": "4522ad10-397a-4b36-abe8-3c215b897876",
   "metadata": {},
   "outputs": [],
   "source": [
    "\n",
    "def set_seed(seed):\n",
    "    random.seed(seed)  # Python random\n",
    "    np.random.seed(seed)  # Numpy random\n",
    "    torch.manual_seed(seed)  # PyTorch CPU\n",
    "    torch.cuda.manual_seed(seed)  # PyTorch GPU (un singolo dispositivo)\n",
    "    torch.cuda.manual_seed_all(seed)  # PyTorch GPU (tutti i dispositivi, se usi multi-GPU)\n",
    "    torch.backends.cudnn.deterministic = True  # Comportamento deterministico di cuDNN\n",
    "    torch.backends.cudnn.benchmark = False  # Evita che cuDNN ottimizzi dinamicamente (influisce su riproducibilità)\n",
    "\n",
    "# Imposta il seed\n",
    "set_seed(42)\n"
   ]
  },
  {
   "cell_type": "code",
   "execution_count": 3,
   "id": "5dc0cecb-9ba1-44f7-ad2e-9147238e378a",
   "metadata": {},
   "outputs": [],
   "source": [
    "\n",
    "# Carica il modello pre-addestrato ESM2\n",
    "model_esm, alphabet_esm = esm.pretrained.esm2_t33_650M_UR50D()\n",
    "#esm.pretrained.esm2_t48_15B_UR50D() #esm.pretrained.esm2_t33_650M_UR50D()\n",
    "\n",
    "# #modelli possibili \n",
    "# esm.pretrained.esm2_t6_8M_UR50D()   # Modello più piccolo (8 milioni di parametri)\n",
    "# esm.pretrained.esm2_t33_650M_UR50D() # Modello medio (650 milioni di parametri)\n",
    "# esm.pretrained.esm2_t36_3B_UR50D()   # Modello più grande (3 miliardi di parametri)\n",
    "\n",
    "# Sposta il modello su GPU, se disponibile\n",
    "device = torch.device('cuda' if torch.cuda.is_available() else 'cpu')\n",
    "model_esm = model_esm.to(device)\n",
    "batch_converter_esm = alphabet_esm.get_batch_converter()\n",
    "model_esm.eval()\n",
    "\n",
    "\n",
    "def Esm2_embedding(seq, model_esm = model_esm, batch_converter_esm = batch_converter_esm):\n",
    "    # Definisci la sequenza della proteina\n",
    "    sequences = [(\"protein\", seq),]\n",
    "    \n",
    "    # Converte la sequenza nel formato richiesto dal modello\n",
    "    batch_labels, batch_strs, batch_tokens = batch_converter_esm(sequences)\n",
    "    batch_tokens = batch_tokens.to(device)\n",
    "    #batch_lens = (batch_tokens != alphabet.padding_idx).sum(1)\n",
    "\n",
    "    # Disabilita il calcolo del gradiente per risparmiare memoria\n",
    "    with torch.no_grad():\n",
    "        results = model_esm(batch_tokens, repr_layers=[33])  # Usa l'ultimo layer\n",
    "        token_representations = results[\"representations\"][33]\n",
    "    \n",
    "    # Rimuove i token speciali di inizio/fine sequenza\n",
    "    # L'embedding risultante sarà una matrice (Lunghezza della sequenza, Dimensione dell'embedding)\n",
    "    embedding = token_representations[0, 1:-1].cpu().numpy()\n",
    "    return embedding"
   ]
  },
  {
   "cell_type": "code",
   "execution_count": 4,
   "id": "cd53fc53-6a66-4f06-aa44-c6e5ac8c52f7",
   "metadata": {},
   "outputs": [],
   "source": [
    "from random import sample\n",
    "\n",
    "class DeltaDataset(Dataset):\n",
    "    def __init__(self, data, dim_embedding, inv = False):\n",
    "        self.data = data\n",
    "        self.dim_embedding = dim_embedding\n",
    "        self.inv = inv\n",
    "\n",
    "    def __len__(self):\n",
    "        return len(self.data)\n",
    "\n",
    "    def __getitem__(self, idx):\n",
    "        sample = self.data[idx]\n",
    "\n",
    "        if self.inv: \n",
    "            return {\n",
    "                'id': sample['id'],\n",
    "                'wild_type': torch.tensor(sample['mut_type'], dtype=torch.float32),    #inverto mut con wild \n",
    "                'mut_type': torch.tensor(sample['wild_type'], dtype=torch.float32),    #inverto mut con wild             \n",
    "                'length': torch.tensor(sample['length'], dtype=torch.float32),\n",
    "                'ddg': torch.tensor(-float(sample['ddg']), dtype=torch.float32),       # -ddg\n",
    "                #'alpha_vec': torch.tensor(-sample['alpha_vec'], dtype=torch.float32),  #-V\n",
    "                'pos_mut': torch.tensor(sample['pos_mut'], dtype=torch.int64),\n",
    "                }|{AA:torch.tensor(sample[AA], dtype=torch.float32) for AA in \"ACDEFGHIKLMNPQRSTVWY\"}\n",
    "\n",
    "        else:\n",
    "            return {\n",
    "                'id': sample['id'],\n",
    "                'wild_type': torch.tensor(sample['wild_type'], dtype=torch.float32),\n",
    "                'mut_type': torch.tensor(sample['mut_type'],dtype=torch.float32),\n",
    "                'length': torch.tensor(sample['length'], dtype=torch.float32),\n",
    "                'ddg': torch.tensor(float(sample['ddg']), dtype=torch.float32),\n",
    "                #'alpha_vec': torch.tensor(sample['alpha_vec'], dtype=torch.float32),\n",
    "                'pos_mut': torch.tensor(sample['pos_mut'], dtype=torch.int64),\n",
    "                }|{AA:torch.tensor(sample[AA], dtype=torch.float32) for AA in \"ACDEFGHIKLMNPQRSTVWY\"}\n"
   ]
  },
  {
   "cell_type": "code",
   "execution_count": 5,
   "id": "37194b0e-d9a3-4928-aa15-b510cbe7a50e",
   "metadata": {},
   "outputs": [],
   "source": [
    "\n",
    "#from torch_geometric.loader import DataLoader\n",
    "import random\n",
    "#from torch.utils.data import DataLoader, WeightedRandomSampler\n",
    "from torch.utils.data import DataLoader  # Use standard PyTorch DataLoader\n",
    "\n",
    "\n",
    "import torch\n",
    "import torch.nn.functional as F\n",
    "\n",
    "def collate_fn(batch):\n",
    "    max_len = max(sample['wild_type'].shape[0] for sample in batch)  # Max sequence length in batch   700\n",
    "    max_features = max(sample['wild_type'].shape[1] for sample in batch)  # Max feature size\n",
    "\n",
    "    padded_batch = {\n",
    "        'id': [],\n",
    "        'wild_type': [],\n",
    "        'mut_type': [],\n",
    "        'length': [],\n",
    "        'ddg': [],\n",
    "        #'alpha_vec': [],\n",
    "        'pos_mut': []\n",
    "    }|{AA:[] for AA in \"ACDEFGHIKLMNPQRSTVWY\"}\n",
    "\n",
    "    for sample in batch:\n",
    "        wild_type_padded = F.pad(sample['wild_type'], (0, max_features - sample['wild_type'].shape[1], \n",
    "                                                       0, max_len - sample['wild_type'].shape[0]))\n",
    "        mut_type_padded = F.pad(sample['mut_type'], (0, max_features - sample['mut_type'].shape[1], \n",
    "                                                     0, max_len - sample['mut_type'].shape[0]))\n",
    "\n",
    "        for AA in \"ACDEFGHIKLMNPQRSTVWY\":\n",
    "            sample[AA] = F.pad(sample[AA], (0, max_features - sample['mut_type'].shape[1], \n",
    "                                                     0, max_len - sample['mut_type'].shape[0]))\n",
    "\n",
    "        padded_batch['id'].append(sample['id'])  \n",
    "        padded_batch['wild_type'].append(wild_type_padded)  \n",
    "        padded_batch['mut_type'].append(mut_type_padded)  \n",
    "        padded_batch['length'].append(sample['length'])#append(torch.tensor(sample['length'], dtype=torch.float32))  \n",
    "        padded_batch['ddg'].append(sample['ddg'])#append(torch.tensor(float(sample['ddg']), dtype=torch.float32))  \n",
    "        #padded_batch['alpha_vec'].append(sample['alpha_vec'])#append(torch.tensor(sample['alpha_vec'], dtype=torch.float32))  \n",
    "        padded_batch['pos_mut'].append(sample['pos_mut'])#append(torch.tensor(sample['pos_mut'], dtype=torch.int64))\n",
    "        for AA in \"ACDEFGHIKLMNPQRSTVWY\":\n",
    "            padded_batch[AA].append(sample[AA])\n",
    "    \n",
    "\n",
    "    # Convert list of tensors into a single batch tensor\n",
    "    padded_batch['wild_type'] = torch.stack(padded_batch['wild_type'])  # Shape: (batch_size, max_len, max_features)\n",
    "    padded_batch['mut_type'] = torch.stack(padded_batch['mut_type'])  \n",
    "    padded_batch['length'] = torch.stack(padded_batch['length'])  \n",
    "    padded_batch['ddg'] = torch.stack(padded_batch['ddg'])  \n",
    "    #padded_batch['alpha_vec'] = torch.stack(padded_batch['alpha_vec'])  \n",
    "    padded_batch['pos_mut'] = [torch.stack(padded_batch['pos_mut'])]\n",
    "    \n",
    "    for AA in \"ACDEFGHIKLMNPQRSTVWY\":\n",
    "        padded_batch[AA]= torch.stack(padded_batch[AA])\n",
    "\n",
    "    return padded_batch\n"
   ]
  },
  {
   "cell_type": "code",
   "execution_count": 6,
   "id": "f8b46a1f-ded3-4ab0-bbcb-d91ab2483241",
   "metadata": {},
   "outputs": [],
   "source": [
    "import copy\n",
    "\n",
    "def output_model_from_batch(batch, model, device, train=True):\n",
    "\n",
    "    '''Dato un modello pytorch e batch restituisce: output_modello, True labels'''\n",
    "    \n",
    "    x_wild = batch['wild_type'].float().to(device)\n",
    "    x_mut = batch['mut_type'].float().to(device)\n",
    "    labels = batch['ddg'].float().to(device)\n",
    "    length = batch['length'].to(device)\n",
    "    output_ddg = model(x_wild, x_mut, length, train = train)\n",
    "    \n",
    "    return output_ddg, labels, batch['pos_mut']   #prova a vedere pos mut\n",
    "\n",
    "\n"
   ]
  },
  {
   "cell_type": "code",
   "execution_count": 7,
   "id": "929f7e6d-973d-4fb4-bf11-e89af78108e2",
   "metadata": {},
   "outputs": [],
   "source": [
    "# class Cross_Attention_DDG(nn.Module):\n",
    "    \n",
    "#     def __init__(self, base_module, cross_att=False, dual_cross_att= False,**transf_parameters):\n",
    "#         super().__init__()\n",
    "#         self.base_ddg = base_module(**transf_parameters, cross_att=cross_att, dual_cross_att= dual_cross_att).to(device)\n",
    "    \n",
    "#     def forward(self, x_wild, x_mut,hydra_list, length, train = True):\n",
    "\n",
    "#         delta_x_dir = x_wild - x_mut\n",
    "#         output_TCA_dir = self.base_ddg(delta_x_dir, x_wild, length)\n",
    "\n",
    "#         # delta_x_inv = x_mut-x_wild\n",
    "#         # output_TCA_inv = self.base_ddg(delta_x_inv, x_mut, length)\n",
    "        \n",
    "#         return output_TCA_dir #(output_TCA_dir-output_TCA_inv)/2#output_TCA   \n",
    "\n"
   ]
  },
  {
   "cell_type": "code",
   "execution_count": 8,
   "id": "a893ceaa-987b-4541-aa53-44b2a370ea6c",
   "metadata": {},
   "outputs": [],
   "source": [
    "\n",
    "\n",
    "def output_model_from_batch_HYDRA(batch, model, device,train=True):\n",
    "\n",
    "    '''Dato un modello pytorch e batch restituisce: output_modello, True labels'''\n",
    "    \n",
    "    x_wild = batch['wild_type'].float().to(device)\n",
    "    x_mut = batch['mut_type'].float().to(device)\n",
    "    hydra_list = [batch[aa].to(device) for aa in 'ACDEFGHIKLMNPQRSTVWY']\n",
    "    labels = batch['ddg'].float().to(device)\n",
    "    length = batch['length'].to(device)\n",
    "    output_ddg = model(x_wild, x_mut, hydra_list, length, train = train)\n",
    "    \n",
    "    return output_ddg, labels, batch['pos_mut']   #prova a vedere pos mut\n",
    "\n",
    "class Cross_Attention_DDG(nn.Module):\n",
    "    \n",
    "    def __init__(self, base_module, cross_att=False, dual_cross_att= False, hydra=True ,**transf_parameters):\n",
    "        super().__init__()\n",
    "        self.base_ddg = base_module(**transf_parameters, cross_att=cross_att, dual_cross_att= dual_cross_att).to(device)\n",
    "        self.hydra=hydra\n",
    "    \n",
    "    def forward(self, x_wild, x_mut, hydra_list, length, train = True):\n",
    "\n",
    "       # Generiamo N numeri casuali\n",
    "        indices = [random.randint(0, 19) for _ in range(N)]\n",
    "        half_aas = [hydra_list[i] for i in indices]\n",
    "        \n",
    "        # Calcolo DDG tra wild e primo intermezzo\n",
    "        delta_dir = x_wild - half_aas[0]\n",
    "        #delta_inv = half_aas[0] - x_wild\n",
    "        wild_half_DDG = self.base_ddg(delta_dir, x_wild, length)#(self.base_ddg(delta_dir, x_wild, length) - self.base_ddg(delta_inv, half_aas[0], length)) / 2\n",
    "        \n",
    "        # Calcolo DDG tra gli intermezzi\n",
    "        intermezzi_DDG = 0\n",
    "        for i in range(N - 1):\n",
    "            delta_dir = half_aas[i] - half_aas[i + 1]\n",
    "            #delta_inv = half_aas[i + 1] - half_aas[i]\n",
    "            intermezzi_DDG += self.base_ddg(delta_dir, half_aas[i], length)#(self.base_ddg(delta_dir, half_aas[i], length) - self.base_ddg(delta_inv, half_aas[i+1], length)) / 2\n",
    "        \n",
    "        # Calcolo DDG tra ultimo intermezzo e mutato\n",
    "        delta_dir = half_aas[-1] - x_mut\n",
    "        #delta_inv = x_mut - half_aas[-1]\n",
    "        half_mut_DDG = self.base_ddg(delta_dir, half_aas[-1], length)#(self.base_ddg(delta_dir, half_aas[-1], length) - self.base_ddg(delta_inv, x_mut, length)) / 2\n",
    "        \n",
    "        # Somma totale\n",
    "        output_TCA = wild_half_DDG + intermezzi_DDG + half_mut_DDG\n",
    "        \n",
    "        return output_TCA   \n"
   ]
  },
  {
   "cell_type": "code",
   "execution_count": 9,
   "id": "37433baa-d053-46d2-8d1d-79189b64be27",
   "metadata": {},
   "outputs": [],
   "source": [
    "#HYDRA\n",
    "\n",
    "# class Cross_Attention_DDG(nn.Module):\n",
    "\n",
    "#     def __init__(self, base_module, cross_att=False, dual_cross_att= False, hydra=True ,**transf_parameters):\n",
    "#         super().__init__()\n",
    "#         self.base_ddg = base_module(**transf_parameters, cross_att=cross_att, dual_cross_att= dual_cross_att).to(device)\n",
    "#         self.hydra=hydra\n",
    "\n",
    "#     def forward(self, x_wild, x_mut, hydra_list, length, train = True):\n",
    "\n",
    "#        # # Generiamo N numeri casuali\n",
    "#        #  indices = [random.randint(0, 19) for _ in range(N)]\n",
    "#        #  half_aas = [hydra_list[i] for i in indices]\n",
    "\n",
    "#         half_aas = [hydra_list[i] for i in range(20)]\n",
    "#         output_TCA=0\n",
    "#         for i in range(len(half_aas)):\n",
    "#             # Calcolo DDG tra wild e primo intermezzo\n",
    "#             delta_dir = x_wild - half_aas[i]\n",
    "#             delta_inv = half_aas[i] - x_wild\n",
    "#             wild_half_DDG = (self.base_ddg(delta_dir, half_aas[i], length) - self.base_ddg(delta_inv, x_wild, length)) / 2\n",
    "        \n",
    "#             # Calcolo DDG tra gli intermezzi\n",
    "#             intermezzi_DDG = 0\n",
    "#             # for i in range(N - 1):\n",
    "#             #     delta_dir = half_aas[i] - half_aas[i + 1]\n",
    "#             #     delta_inv = half_aas[i + 1] - half_aas[i]\n",
    "#             #     intermezzi_DDG += (self.base_ddg(delta_dir, half_aas[i + 1], length) - self.base_ddg(delta_inv, half_aas[i], length)) / 2\n",
    "            \n",
    "#             # Calcolo DDG tra ultimo intermezzo e mutato\n",
    "#             delta_dir = half_aas[i] - x_mut\n",
    "#             delta_inv = x_mut - half_aas[i]\n",
    "#             half_mut_DDG = (self.base_ddg(delta_dir, x_mut, length) - self.base_ddg(delta_inv, half_aas[-1], length)) / 2\n",
    "        \n",
    "#             # Somma totale\n",
    "#             output_TCA += (wild_half_DDG + intermezzi_DDG + half_mut_DDG)\n",
    "    \n",
    "#         return output_TCA  /20 \n"
   ]
  },
  {
   "cell_type": "code",
   "execution_count": 10,
   "id": "c98febd2-26c0-4c75-9768-9a9871b263e5",
   "metadata": {},
   "outputs": [],
   "source": [
    "import torch\n",
    "import torch.nn as nn\n",
    "\n",
    "\n",
    "def apply_masked_pooling(position_attn_output, padding_mask):\n",
    "\n",
    "    # Convert mask to float for element-wise multiplication\n",
    "    padding_mask = padding_mask.float()\n",
    "\n",
    "    # Global Average Pooling (GAP) - Exclude padded tokens\n",
    "    # Sum only over valid positions (padding_mask is False for valid positions)\n",
    "    sum_output = torch.sum(position_attn_output * (1 - padding_mask.unsqueeze(-1)), dim=1)  # (batch_size, feature_dim)\n",
    "    valid_count = torch.sum((1 - padding_mask).float(), dim=1)  # (batch_size,)\n",
    "    gap = sum_output / valid_count.unsqueeze(-1)  # Divide by number of valid positions\n",
    "\n",
    "    # Global Max Pooling (GMP) - Exclude padded tokens\n",
    "    # Set padded positions to -inf so they don't affect the max computation\n",
    "    position_attn_output_masked = position_attn_output * (1 - padding_mask.unsqueeze(-1)) + (padding_mask.unsqueeze(-1) * (- 1e10))\n",
    "    gmp, _ = torch.max(position_attn_output_masked, dim=1)  # (batch_size, feature_dim)\n",
    "\n",
    "    return gap, gmp\n",
    "\n",
    "\n",
    "class SinusoidalPositionalEncoding(nn.Module):\n",
    "    def __init__(self, embedding_dim, max_len=3700):\n",
    "        super(SinusoidalPositionalEncoding, self).__init__()\n",
    "        pe = torch.zeros(max_len, embedding_dim)\n",
    "        position = torch.arange(0, max_len, dtype=torch.float).unsqueeze(1)\n",
    "        div_term = torch.exp(torch.arange(0, embedding_dim, 2).float() * (-torch.log(torch.tensor(10000.0)) / embedding_dim))\n",
    "        pe[:, 0::2] = torch.sin(position * div_term)\n",
    "        pe[:, 1::2] = torch.cos(position * div_term)\n",
    "        pe = pe.unsqueeze(0)  # Shape (1, max_len, embedding_dim)\n",
    "        self.register_buffer('pe', pe)  # Salvato come tensore fisso (non parametro)\n",
    "\n",
    "    def forward(self, x):\n",
    "        return x + self.pe[:, :x.size(1), :]\n",
    "\n",
    "\n",
    "class TransformerRegression(nn.Module):\n",
    "    def __init__(self, input_dim=1280, num_heads=8, dropout_rate=0., num_experts=1, f_activation = nn.ReLU(), kernel_size=20, cross_att = True,\n",
    "                dual_cross_att=True):\n",
    "        \n",
    "        super(TransformerRegression, self).__init__()\n",
    "        self.cross_att = cross_att\n",
    "        self.dual_cross_att = dual_cross_att\n",
    "        \n",
    "        print(f'Cross Attention: {cross_att}')\n",
    "        print(f'Dual Cross Attention: {dual_cross_att}')\n",
    "\n",
    "        self.embedding_dim = input_dim\n",
    "        self.act = f_activation\n",
    "        self.max_len = 3700 #lunghezza massima proteina\n",
    "        out_channels = 128  #num filtri conv 1D\n",
    "        kernel_size = 20\n",
    "        padding = 0\n",
    "        \n",
    "        self.conv1d = nn.Conv1d(in_channels=self.embedding_dim, \n",
    "                                             out_channels=out_channels, \n",
    "                                             kernel_size=kernel_size, \n",
    "                                             padding=padding) \n",
    "        \n",
    "        self.conv1d_wild = nn.Conv1d(in_channels=self.embedding_dim, \n",
    "                                             out_channels=out_channels, \n",
    "                                             kernel_size=kernel_size, \n",
    "                                             padding=padding)\n",
    "\n",
    "        self.norm1 = nn.LayerNorm(out_channels)\n",
    "        self.norm2 = nn.LayerNorm(out_channels)\n",
    "        \n",
    "        # Cross-attention layers\n",
    "        self.positional_encoding = SinusoidalPositionalEncoding(out_channels, 3700)\n",
    "        self.speach_att_type = True\n",
    "        self.multihead_attention = nn.MultiheadAttention(embed_dim=out_channels, num_heads=num_heads, dropout=dropout_rate, batch_first=True )\n",
    "        self.inverse_attention = nn.MultiheadAttention(embed_dim=out_channels, num_heads=num_heads, dropout=dropout_rate, batch_first =True)\n",
    "        \n",
    "        if cross_att:\n",
    "            # Router (learns which expert to choose per token)\n",
    "            if dual_cross_att:\n",
    "                dim_position_wise_FFN = out_channels*2\n",
    "            else:\n",
    "                dim_position_wise_FFN = out_channels\n",
    "\n",
    "\n",
    "        else:\n",
    "            dim_position_wise_FFN = out_channels\n",
    "        \n",
    "        self.norm3 = nn.LayerNorm(dim_position_wise_FFN)\n",
    "        self.norm4 = nn.LayerNorm(dim_position_wise_FFN)        \n",
    "        self.router = nn.Linear(dim_position_wise_FFN, num_experts) #dim_position_wise_FFN*2\n",
    "        # Mixture of Experts (Switch FFN)\n",
    "        self.num_experts = num_experts\n",
    "        self.experts = nn.ModuleList([nn.Sequential(\n",
    "            nn.Linear(dim_position_wise_FFN, 512),\n",
    "            self.act,\n",
    "            nn.Linear(512, dim_position_wise_FFN)\n",
    "        ) for _ in range(num_experts)])\n",
    "        # self.experts = nn.Sequential(\n",
    "        #     nn.Linear(dim_position_wise_FFN, 512),\n",
    "        #     self.act,\n",
    "        #     nn.Linear(512, dim_position_wise_FFN)\n",
    "        #     )\n",
    "        \n",
    "\n",
    "        self.Linear_ddg = nn.Linear(dim_position_wise_FFN*2, 1)\n",
    "\n",
    "            \n",
    "\n",
    "    def create_padding_mask(self, length, seq_len, batch_size):\n",
    "        \"\"\"\n",
    "        Create a padding mask for multihead attention.\n",
    "        length: Tensor of shape (batch_size,) containing the actual lengths of the sequences.\n",
    "        seq_len: The maximum sequence length.\n",
    "        batch_size: The number of sequences in the batch.\n",
    "        \n",
    "        Returns a padding mask of shape (batch_size, seq_len).\n",
    "        \"\"\"\n",
    "        mask = torch.arange(seq_len, device=length.device).unsqueeze(0) >= length.unsqueeze(1)\n",
    "        return mask\n",
    "\n",
    "\n",
    "\n",
    "    def forward(self, delta_w_m, x_wild, length):\n",
    "            # Add positional encoding\n",
    "            \n",
    "            delta_w_m = delta_w_m.transpose(1, 2)  # (batch_size, feature_dim, seq_len) -> (seq_len, batch_size, feature_dim)\n",
    "            C_delta_w_m = self.conv1d(delta_w_m)\n",
    "            # C_delta_w_m = self.act(C_delta_w_m)  #CASTRENSE USA RELU IO NON AVEVO MESSO NULLA \n",
    "            C_delta_w_m = C_delta_w_m.transpose(1, 2)  # (seq_len, batch_size, feature_dim) -> (batch_size, seq_len, feature_dim)\n",
    "            C_delta_w_m = self.positional_encoding(C_delta_w_m)\n",
    "            \n",
    "            x_wild = x_wild.transpose(1, 2)  # (batch_size, feature_dim, seq_len) -> (seq_len, batch_size, feature_dim)\n",
    "            C_x_wild = self.conv1d_wild(x_wild)\n",
    "            # C_x_wild = self.act(C_x_wild)  #CASTRENSE USA RELU IO NON AVEVO MESSO NULLA \n",
    "            C_x_wild = C_x_wild.transpose(1, 2)  # (seq_len, batch_size, feature_dim) -> (batch_size, seq_len, feature_dim)\n",
    "            C_x_wild = self.positional_encoding(C_x_wild)            \n",
    "            \n",
    "            batch_size, seq_len, feature_dim = C_x_wild.size()\n",
    "\n",
    "            padding_mask = self.create_padding_mask(length, seq_len, batch_size)        \n",
    "\n",
    "            if self.cross_att :\n",
    "                if self.dual_cross_att:\n",
    "                    \n",
    "                    if self.speach_att_type:\n",
    "                        print('ATTENTION TYPE: Dual cross Attention\\n q = wild , k = delta, v = delta and q = delta , k = wild, v = wild \\n ----------------------------------')\n",
    "                        self.speach_att_type = False\n",
    "                        \n",
    "                    direct_attn_output, _ = self.multihead_attention(C_x_wild, C_delta_w_m, C_delta_w_m, key_padding_mask=padding_mask)\n",
    "                    direct_attn_output += C_delta_w_m \n",
    "                    direct_attn_output = self.norm1(direct_attn_output)                        \n",
    "                    \n",
    "                    inverse_attn_output, _ = self.inverse_attention(C_delta_w_m, C_x_wild, C_x_wild, key_padding_mask=padding_mask)                   \n",
    "                    inverse_attn_output += C_x_wild  \n",
    "                    inverse_attn_output = self.norm2(inverse_attn_output)\n",
    "                    \n",
    "                    attn_output = torch.cat([direct_attn_output, inverse_attn_output], dim=-1)\n",
    "                    #combined_output = self.norm3(combined_output)\n",
    "\n",
    "                else:\n",
    "                    if self.speach_att_type:\n",
    "                        print('ATTENTION TYPE: Cross Attention \\n q = wild , k = delta, v = delta  \\n ----------------------------------')\n",
    "                        self.speach_att_type = False\n",
    "\n",
    "                    attn_output, _ = self.multihead_attention(C_x_wild, C_delta_w_m, C_delta_w_m, key_padding_mask=padding_mask)\n",
    "                    attn_output += C_delta_w_m \n",
    "                    attn_output = self.norm1(attn_output) \n",
    "            \n",
    "            else:\n",
    "                if self.speach_att_type:\n",
    "                    print('ATTENTION TYPE: Self Attention \\n q = delta , k = delta, v = delta  \\n ----------------------------------')\n",
    "                    self.speach_att_type = False\n",
    "                \n",
    "                attn_output, _ = self.multihead_attention(C_delta_w_m, C_delta_w_m, C_delta_w_m, key_padding_mask=padding_mask)\n",
    "                attn_output += C_delta_w_m\n",
    "                attn_output = self.norm1(attn_output)\n",
    "\n",
    "\n",
    "            ########\n",
    "            # Route tokens to experts\n",
    "            routing_logits = self.router(attn_output)  # Shape: [batch, seq_len, num_experts]\n",
    "            routing_weights = F.softmax(routing_logits, dim=-1)  # Probability distribution over experts\n",
    "            expert_indices = torch.argmax(routing_weights, dim=-1)  # Choose the most probable expert for each token\n",
    "            \n",
    "            # Apply selected expert\n",
    "            batch_size, seq_len, embed_dim = attn_output.shape\n",
    "            output = torch.zeros_like(attn_output)\n",
    "            for i in range(self.num_experts):\n",
    "                mask = (expert_indices == i).unsqueeze(-1).float()  # Mask for tokens assigned to expert i\n",
    "                expert_out = self.experts[i](attn_output) * mask  # Apply expert only to selected tokens\n",
    "                output += expert_out  # Aggregate expert outputs\n",
    "            ############ù\n",
    "\n",
    "            # output = self.experts(attn_output)\n",
    "\n",
    "            position_attn_output = attn_output + output\n",
    "\n",
    "            position_attn_output = self.norm3(position_attn_output)\n",
    "    \n",
    "            gap, gmp = apply_masked_pooling(position_attn_output, padding_mask)\n",
    "    \n",
    "            # Concatenate GAP and GMP\n",
    "            pooled_output = torch.cat([gap, gmp], dim=-1)  # (batch_size, 2 * feature_dim)\n",
    "    \n",
    "            # Pass through FFNN to predict DDG\n",
    "            x = self.Linear_ddg(pooled_output)        \n",
    "            \n",
    "            return x.squeeze(-1)"
   ]
  },
  {
   "cell_type": "code",
   "execution_count": 11,
   "id": "861b2738-25e5-4dd5-b9dd-1119798ef5fc",
   "metadata": {},
   "outputs": [],
   "source": [
    "def metrics(pred_dir=None, pred_inv=None, true_dir=None):\n",
    "\n",
    "    if pred_dir is not None :\n",
    "        #Dirette\n",
    "        print(f'Pearson test dirette: {pearsonr(true_dir,pred_dir)[0]}')   \n",
    "        print(f'Spearmanr test dirette: {spearmanr(true_dir,pred_dir)[0]}')    \n",
    "        print(f'RMSE dirette: {root_mean_squared_error(true_dir,pred_dir)}')\n",
    "        print(f'MAE dirette: {mean_absolute_error(true_dir,pred_dir)}\\n')\n",
    "    if pred_inv is not None: \n",
    "        #Inverse\n",
    "        print(f'Pearson test inverse: {pearsonr(-true_dir,pred_inv)[0]}')   \n",
    "        print(f'Spearmanr test inverse: {spearmanr(-true_dir,pred_inv)[0]}')    \n",
    "        print(f'RMSE inverse: {root_mean_squared_error(-true_dir,pred_inv)}')\n",
    "        print(f'MAE inverse: {mean_absolute_error(-true_dir,pred_inv)}\\n')\n",
    "    \n",
    "    if (pred_dir is not None) and (pred_inv is not None):\n",
    "        #Tot\n",
    "        print(f'Pearson test tot: {pearsonr(pd.concat([true_dir,-true_dir],axis=0),pd.concat([pred_dir,pred_inv],axis=0))[0]}')   \n",
    "        print(f'Spearmanr test tot: {spearmanr(pd.concat([true_dir,-true_dir],axis=0),pd.concat([pred_dir,pred_inv],axis=0))[0]}')    \n",
    "        print(f'RMSE tot: {root_mean_squared_error(pd.concat([true_dir,-true_dir],axis=0),pd.concat([pred_dir,pred_inv],axis=0))}')\n",
    "        print(f'MAE tot: {mean_absolute_error(pd.concat([true_dir,-true_dir],axis=0),pd.concat([pred_dir,pred_inv],axis=0))}\\n')\n",
    "        \n",
    "        print(f'PCC d-r: {pearsonr(pred_dir,pred_inv)}\\n')\n",
    "        print(f'anti-symmetry bias: {np.mean(pred_dir + pred_inv)}\\n-----------------------\\n')\n"
   ]
  },
  {
   "cell_type": "code",
   "execution_count": 12,
   "id": "f4cb6056-ecb1-4295-a449-4be5219c5bbb",
   "metadata": {},
   "outputs": [],
   "source": [
    "def dataloader_generation_pred(E_TYPE, test_path, batch_size = 128, dataloader_shuffle = True, inv= False):\n",
    "    \n",
    "    EMBEDDING_TYPE = E_TYPE\n",
    "    \n",
    "    if EMBEDDING_TYPE == 'ESM2':\n",
    "\n",
    "        '''train formato da s2648 + UnionV e DA; 1000 dei DA sono usati nel validation insieme a s669 DA\n",
    "        '''\n",
    "        \n",
    "        dim_embedding = 1280\n",
    "        \n",
    "        dataset_test = []\n",
    "        \n",
    "        for path in test_path:           \n",
    "            with open(path, 'rb') as f:\n",
    "                dataset_test += pickle.load(f)\n",
    "    \n",
    "    else:\n",
    "        assert False\n",
    "\n",
    "    dataset_test = DeltaDataset(dataset_test, dim_embedding, inv = inv)\n",
    "    \n",
    "    # Creazione DataLoader\n",
    "    dataloader_test = DataLoader(dataset_test, batch_size=batch_size, shuffle=dataloader_shuffle, collate_fn=collate_fn)#_MULTIPLE)#collate_fn_MULTIPLE\n",
    "\n",
    "    return dataloader_test\n"
   ]
  },
  {
   "cell_type": "code",
   "execution_count": 13,
   "id": "215d6258-bc45-4ca3-9e15-4966161a8c81",
   "metadata": {},
   "outputs": [],
   "source": [
    "def collate_fn_MULTIPLE(batch):\n",
    "    max_len = max(sample['wild_type'].shape[0] for sample in batch)  # Max sequence length in batch   700\n",
    "    max_features = max(sample['wild_type'].shape[1] for sample in batch)  # Max feature size\n",
    "\n",
    "    padded_batch = {\n",
    "        'id': [],\n",
    "        'wild_type': [],\n",
    "        'mut_type': [],\n",
    "        'length': [],\n",
    "        'ddg': [],\n",
    "        #'alpha_vec': [],\n",
    "        'pos_mut': []\n",
    "    }\n",
    "\n",
    "    for sample in batch:\n",
    "        wild_type_padded = F.pad(sample['wild_type'], (0, max_features - sample['wild_type'].shape[1], \n",
    "                                                       0, max_len - sample['wild_type'].shape[0]))\n",
    "        mut_type_padded = F.pad(sample['mut_type'], (0, max_features - sample['mut_type'].shape[1], \n",
    "                                                     0, max_len - sample['mut_type'].shape[0]))\n",
    "\n",
    "\n",
    "        padded_batch['id'].append(sample['id'])  \n",
    "        padded_batch['wild_type'].append(wild_type_padded)  \n",
    "        padded_batch['mut_type'].append(mut_type_padded)  \n",
    "        padded_batch['length'].append(sample['length'])#append(torch.tensor(sample['length'], dtype=torch.float32))  \n",
    "        padded_batch['ddg'].append(sample['ddg'])#append(torch.tensor(float(sample['ddg']), dtype=torch.float32))  \n",
    "        #padded_batch['alpha_vec'].append(sample['alpha_vec'])#append(torch.tensor(sample['alpha_vec'], dtype=torch.float32))  \n",
    "        padded_batch['pos_mut'].append(sample['pos_mut'])#append(torch.tensor(sample['pos_mut'], dtype=torch.int64))  \n",
    "\n",
    "    # Convert list of tensors into a single batch tensor\n",
    "    padded_batch['wild_type'] = torch.stack(padded_batch['wild_type'])  # Shape: (batch_size, max_len, max_features)\n",
    "    padded_batch['mut_type'] = torch.stack(padded_batch['mut_type'])  \n",
    "    padded_batch['length'] = torch.stack(padded_batch['length'])  \n",
    "    padded_batch['ddg'] = torch.stack(padded_batch['ddg'])  \n",
    "    #padded_batch['alpha_vec'] = torch.stack(padded_batch['alpha_vec'])  \n",
    "    padded_batch['pos_mut'] = [torch.stack(padded_batch['pos_mut'])]  \n",
    "\n",
    "    return padded_batch\n",
    "\n"
   ]
  },
  {
   "cell_type": "code",
   "execution_count": 14,
   "id": "ad2869da-2d53-4419-b0df-5417521bf81b",
   "metadata": {},
   "outputs": [],
   "source": [
    "# test model\n",
    "\n",
    "device = torch.device('cuda' if torch.cuda.is_available() else 'cpu')\n",
    "\n",
    "# def model_performance_test(model, dataloader_test):\n",
    "#     # Assicurati che il modello sia in modalità di valutazione\n",
    "#     model.eval()\n",
    "    \n",
    "#     # Lista per salvare tutte le predizioni\n",
    "#     all_predictions_test = []\n",
    "#     all_lables_test = []\n",
    "\n",
    "#     all_pos = []\n",
    "    \n",
    "#     with torch.no_grad():  # Disable gradient calculation\n",
    "       \n",
    "#         for i, batch in enumerate(dataloader_test):\n",
    "\n",
    "#             predictions_test, labels_test, pos=output_model_from_batch(batch, model, device, train=False)\n",
    "\n",
    "#             # Aggiungi le predizioni alla lista\n",
    "#             all_predictions_test.append(predictions_test)\n",
    "#             all_lables_test.append(labels_test)\n",
    "    \n",
    "#             ###\n",
    "#             all_pos.append(pos)\n",
    "#             ####\n",
    "    \n",
    "#     return all_predictions_test, all_lables_test,all_pos"
   ]
  },
  {
   "cell_type": "code",
   "execution_count": 15,
   "id": "5dfd61ef-621d-4812-b09a-5437aedbb1dc",
   "metadata": {},
   "outputs": [],
   "source": [
    "def model_performance_test_hydra(model, dataloader_test):\n",
    "    # Assicurati che il modello sia in modalità di valutazione\n",
    "    model.eval()\n",
    "    \n",
    "    # Lista per salvare tutte le predizioni\n",
    "    all_predictions_test = []\n",
    "    all_lables_test = []\n",
    "\n",
    "    all_pos = []\n",
    "    \n",
    "    with torch.no_grad():  # Disable gradient calculation\n",
    "       \n",
    "        for i, batch in enumerate(dataloader_test):\n",
    "\n",
    "            predictions_test, labels_test, pos=output_model_from_batch_HYDRA(batch, model, device, train=False)\n",
    "\n",
    "            # Aggiungi le predizioni alla lista\n",
    "            all_predictions_test.append(predictions_test)\n",
    "            all_lables_test.append(labels_test)\n",
    "    \n",
    "            ###\n",
    "            all_pos.append(pos)\n",
    "            ####\n",
    "    \n",
    "    return all_predictions_test, all_lables_test,all_pos"
   ]
  },
  {
   "cell_type": "code",
   "execution_count": 16,
   "id": "2c1677da-b1ba-41cc-968e-557714b358f3",
   "metadata": {},
   "outputs": [
    {
     "name": "stderr",
     "output_type": "stream",
     "text": [
      "/tmp/ipykernel_269817/936252777.py:7: FutureWarning: You are using `torch.load` with `weights_only=False` (the current default value), which uses the default pickle module implicitly. It is possible to construct malicious pickle data which will execute arbitrary code during unpickling (See https://github.com/pytorch/pytorch/blob/main/SECURITY.md#untrusted-models for more details). In a future release, the default value for `weights_only` will be flipped to `True`. This limits the functions that could be executed during unpickling. Arbitrary objects will no longer be allowed to be loaded via this mode unless they are explicitly allowlisted by the user via `torch.serialization.add_safe_globals`. We recommend you start setting `weights_only=True` for any use case where you don't have full control of the loaded file. Please open an issue on GitHub for any issues related to this experimental feature.\n",
      "  best_model = torch.load('JanusDDG_300epochs.pth')#('JanusDDG_28epochs_finetuned_zeros_MODELLO_FINALE.pth')#('JanusDDG_300epochs_plus25_hydra_slim.pth')#('JanusDDG_300epochs.pth')#('JanusDDG_300epochs_plus25_hydra_slim.pth')#('JanusDDG_300epochs_plus15_hydra_slim.pth')#('JanusDDG_300epochs.pth')#('JanusDDG_300_all_train.pth')#('JanusDDG_300epochs.pth')#(f'JanusDDG_300epochs.pth')\n"
     ]
    }
   ],
   "source": [
    "import torch\n",
    "lr = 1e-4\n",
    "input_dim = 1280\n",
    "\n",
    "transf_parameters={'input_dim':1280, 'num_heads':8,\n",
    "                    'dropout_rate':0.,}\n",
    "best_model = torch.load('JanusDDG_300epochs.pth')#('JanusDDG_28epochs_finetuned_zeros_MODELLO_FINALE.pth')#('JanusDDG_300epochs_plus25_hydra_slim.pth')#('JanusDDG_300epochs.pth')#('JanusDDG_300epochs_plus25_hydra_slim.pth')#('JanusDDG_300epochs_plus15_hydra_slim.pth')#('JanusDDG_300epochs.pth')#('JanusDDG_300_all_train.pth')#('JanusDDG_300epochs.pth')#(f'JanusDDG_300epochs.pth')\n",
    "#torch.load(f'DDGemb_Cross_4.pth')\n",
    "\n",
    "\n",
    "#IL MODELLO FINE TUNED PER SINGOLE è JanusDDG_300epochs_plus25_hydra_slim   TRANSITIVO"
   ]
  },
  {
   "cell_type": "code",
   "execution_count": 17,
   "id": "270b950e-452a-44d8-8ec1-98bf6bd3a1de",
   "metadata": {},
   "outputs": [],
   "source": [
    "#['s669_Castrense.pkl']#'PTMUL_D.pkl'\n",
    "#'ddg_S2648_ESM2_ALL_LENGTH.pkl' #'s2450_fold_4.pkl' \n",
    "#['../DeltaDelta_BELLO/cdna117k_fold_1.pkl'] + ['../DeltaDelta_BELLO/cdna117k_fold_2.pkl']"
   ]
  },
  {
   "cell_type": "code",
   "execution_count": 18,
   "id": "7fbd9c0f-9b07-4e7d-bd56-4fde2a09795c",
   "metadata": {},
   "outputs": [],
   "source": [
    "# import torch\n",
    "\n",
    "# # Lista dei file dei modelli salvati\n",
    "# model_paths = [f'JanusDDG_{epoch}_ensamble.pth' for epoch in range(200, 301,50)]\n",
    "\n",
    "# # Carica gli state_dict dei modelli\n",
    "# state_dicts = [torch.load(path).state_dict() for path in model_paths]\n",
    "\n",
    "# # Crea un nuovo state_dict per il modello mediato\n",
    "# avg_state_dict = {}\n",
    "\n",
    "# # Itera su tutti i parametri del modello\n",
    "# for key in state_dicts[0]:  # Prendi le chiavi dal primo modello\n",
    "#     avg_state_dict[key] = sum(d[key] for d in state_dicts) / len(state_dicts)\n",
    "\n",
    "# # Carica i pesi mediati in un nuovo modello\n",
    "# final_model = torch.load(model_paths[0])  # Carica uno dei modelli per l'architettura\n",
    "# final_model.load_state_dict(avg_state_dict)\n",
    "\n",
    "# # Salva il modello mediato\n",
    "# torch.save(final_model, \"JanusDDG_avg_final.pth\")"
   ]
  },
  {
   "cell_type": "code",
   "execution_count": 19,
   "id": "03fd1e01-4e09-496e-a41c-e18c9471033a",
   "metadata": {},
   "outputs": [
    {
     "name": "stdout",
     "output_type": "stream",
     "text": [
      "0\n",
      "1\n",
      "2\n",
      "3\n",
      "4\n",
      "5\n",
      "6\n",
      "7\n",
      "8\n",
      "9\n",
      "Pearson test dirette: 0.37604352831840515\n",
      "Spearmanr test dirette: 0.3880078150943098\n",
      "RMSE dirette: 1.7163058519363403\n",
      "MAE dirette: 1.2838808298110962\n",
      "\n"
     ]
    }
   ],
   "source": [
    "E_TYPE = 'ESM2'\n",
    "\n",
    "dir =True#True\n",
    "inv = True\n",
    "path_test = ['s669_hydra_Castrense.pkl']#['s669_hydra_Castrense.pkl']#['Ssym_correct_by_KORPM.pkl']#['s461_Castrense.pkl']#['s669_Castrense.pkl']#['../DeltaDelta_BELLO/cdna117k_fold_1.pkl'] + ['../DeltaDelta_BELLO/cdna117k_fold_2.pkl']#['s669_Castrense.pkl']\n",
    "#['dataset_doppie.pkl']\n",
    "all_predictions_test_dir=None\n",
    "all_lables_test_dir=None\n",
    "all_predictions_test_inv=None\n",
    "all_lables_test_inv=None\n",
    "\n",
    "dir_predictions=[]\n",
    "dir_lables=[]\n",
    "\n",
    "inv_predictions=[]\n",
    "inv_lables=[]\n",
    "\n",
    "N=9\n",
    "\n",
    "\n",
    "if dir:\n",
    "    dataloader_test_dir = dataloader_generation_pred(E_TYPE,  test_path=path_test,  batch_size = 1, dataloader_shuffle = False, inv= False)\n",
    "    for x in range(10):\n",
    "        all_predictions_test_dir, all_lables_test_dir, p_dir = model_performance_test_hydra(best_model,dataloader_test_dir)#model_performance_test(best_model,dataloader_test_dir)                                         \n",
    "        all_predictions_test_dir = pd.Series(torch.cat(all_predictions_test_dir, dim=0).cpu())\n",
    "        all_lables_test_dir = pd.Series(torch.cat(all_lables_test_dir, dim=0).cpu())\n",
    "        dir_predictions.append(all_predictions_test_dir)\n",
    "        dir_lables.append(all_lables_test_dir)\n",
    "        print(x)\n",
    "\n",
    "# if inv:\n",
    "#     dataloader_test_inv = dataloader_generation_pred(E_TYPE,  test_path=path_test,  batch_size = 1, dataloader_shuffle = False, inv= True)\n",
    "#     for x in range(10):\n",
    "#         all_predictions_test_inv, all_lables_test_inv, p_inv =model_performance_test_hydra(best_model,dataloader_test_inv)# model_performance_test(best_model,dataloader_test_inv)                                    \n",
    "#         all_predictions_test_inv = pd.Series(torch.cat(all_predictions_test_inv, dim=0).cpu())\n",
    "#         all_lables_test_inv = pd.Series(torch.cat(all_lables_test_inv, dim=0).cpu())\n",
    "#         inv_predictions.append(all_predictions_test_inv)\n",
    "#         inv_lables.append(all_lables_test_inv)\n",
    "#         if ~dir:\n",
    "#             all_lables_test_dir = -all_lables_test_inv\n",
    "\n",
    "metrics(all_predictions_test_dir,all_predictions_test_inv, all_lables_test_dir)"
   ]
  },
  {
   "cell_type": "code",
   "execution_count": 20,
   "id": "ae08811f-2a87-4d14-bbcd-83afe21966be",
   "metadata": {},
   "outputs": [
    {
     "ename": "SyntaxError",
     "evalue": "invalid syntax (468484764.py, line 1)",
     "output_type": "error",
     "traceback": [
      "\u001b[0;36m  Cell \u001b[0;32mIn[20], line 1\u001b[0;36m\u001b[0m\n\u001b[0;31m    Pearson test dirette: 0.5248647928237915\u001b[0m\n\u001b[0m            ^\u001b[0m\n\u001b[0;31mSyntaxError\u001b[0m\u001b[0;31m:\u001b[0m invalid syntax\n"
     ]
    }
   ],
   "source": [
    "Pearson test dirette: 0.5248647928237915\n",
    "Spearmanr test dirette: 0.5313200340277623\n",
    "RMSE dirette: 1.4082545042037964\n",
    "MAE dirette: 0.994674801826477"
   ]
  },
  {
   "cell_type": "code",
   "execution_count": null,
   "id": "b91c4e85-5cf8-4cc1-a76b-96c5b4adecd3",
   "metadata": {},
   "outputs": [],
   "source": [
    "assert False"
   ]
  },
  {
   "cell_type": "code",
   "execution_count": 21,
   "id": "3f22dbba-460c-4019-861a-f1a0af8d0a56",
   "metadata": {},
   "outputs": [],
   "source": [
    "pd.DataFrame(dir_predictions).T.to_csv('s669_DDGjanusBASE_TRANSITIVITY_N9.csv')"
   ]
  },
  {
   "cell_type": "code",
   "execution_count": null,
   "id": "fab24e87-d9d5-4319-b204-19f2e6307c76",
   "metadata": {},
   "outputs": [],
   "source": [
    "dir_predictions"
   ]
  },
  {
   "cell_type": "code",
   "execution_count": null,
   "id": "6f036591-cf0e-4cf0-b51c-bb0f771fa4a8",
   "metadata": {},
   "outputs": [],
   "source": [
    "assert False"
   ]
  },
  {
   "cell_type": "code",
   "execution_count": null,
   "id": "c1e32acd-8908-4de8-bc4b-d805d4ee9b34",
   "metadata": {},
   "outputs": [],
   "source": [
    "metrics((all_predictions_test_dir-all_predictions_test_inv)/2, -(all_predictions_test_dir-all_predictions_test_inv)/2, all_lables_test_dir)"
   ]
  },
  {
   "cell_type": "code",
   "execution_count": null,
   "id": "2a3eca52-b65c-4061-b430-03001a1f8078",
   "metadata": {},
   "outputs": [],
   "source": [
    "pearsonr((all_predictions_test_dir-all_predictions_test_inv)/2, pd.read_csv('p_trans_l_trans_TRAIN.csv')['pred_trans'])"
   ]
  },
  {
   "cell_type": "code",
   "execution_count": null,
   "id": "b6960ee5-3136-4ebc-8da6-af0f935ad049",
   "metadata": {},
   "outputs": [],
   "source": [
    "(all_predictions_test_dir-all_predictions_test_inv)/2"
   ]
  },
  {
   "cell_type": "code",
   "execution_count": null,
   "id": "5c1f8800-2eac-45a2-bbe7-536b62668e3a",
   "metadata": {},
   "outputs": [],
   "source": [
    "all_lables_test_dir"
   ]
  },
  {
   "cell_type": "code",
   "execution_count": null,
   "id": "ff24508f-2ee6-4000-8d55-61df71cac9ef",
   "metadata": {},
   "outputs": [],
   "source": [
    "pd.read_csv('p_trans_l_trans_TRAIN.csv')"
   ]
  },
  {
   "cell_type": "code",
   "execution_count": null,
   "id": "e5b79e86-3573-478d-a481-b5097871a463",
   "metadata": {},
   "outputs": [],
   "source": [
    "pearsonr((all_predictions_test_dir-all_predictions_test_inv)/2,pd.read_csv('s669_DDGjanus_BUG_base_trans0.csv')['0'].values)"
   ]
  },
  {
   "cell_type": "code",
   "execution_count": null,
   "id": "b9774fc6-2642-4653-8cce-5aa958142f2d",
   "metadata": {},
   "outputs": [],
   "source": [
    "pearsonr((all_predictions_test_dir-all_predictions_test_inv)/2,pd.read_csv('../git_JANUS_DDG/Results/Result_s669_to_process.csv')['DDG'].values)"
   ]
  },
  {
   "cell_type": "code",
   "execution_count": null,
   "id": "eb7df8ab-f376-488c-839b-b3288d9d2568",
   "metadata": {},
   "outputs": [],
   "source": [
    "#pd.DataFrame((all_predictions_test_dir-all_predictions_test_inv)/2).to_csv('s669_DDGjanus_BUG_base_trans0.csv')"
   ]
  },
  {
   "cell_type": "code",
   "execution_count": null,
   "id": "efcae3e3-77f7-4547-8c00-7602383bd168",
   "metadata": {},
   "outputs": [],
   "source": [
    "(all_predictions_test_dir-all_predictions_test_inv)/2"
   ]
  },
  {
   "cell_type": "code",
   "execution_count": null,
   "id": "26c2aa87-1168-4c2d-9da9-1a55ce32b391",
   "metadata": {},
   "outputs": [],
   "source": [
    "assert False"
   ]
  },
  {
   "cell_type": "code",
   "execution_count": null,
   "id": "3aef9827-03ba-4b94-9a5e-9307632f8e93",
   "metadata": {},
   "outputs": [],
   "source": [
    "for x in range(10):\n",
    "    p_d = [pearsonr((pred_d-pred_inv)/2,(pd.read_pickle(f's669_Hydra_0_step_dir.pkl').values-pd.read_pickle(f's669_Hydra_0_step_inv.pkl').values)/2) for pred_d,pred_inv in zip(dir_predictions,inv_predictions)]\n",
    "p_d"
   ]
  },
  {
   "cell_type": "code",
   "execution_count": null,
   "id": "05f69a76-6018-4c32-b959-727d3e686c1f",
   "metadata": {},
   "outputs": [],
   "source": [
    "# If p_d is a list, you can convert it to a DataFrame first\n",
    "p_d = pd.DataFrame(p_d)\n",
    "\n",
    "# Then save it using to_pickle\n",
    "# p_d.to_pickle(f'transitivity_results/pearson_JanusDDG_N{N}.pkl')"
   ]
  },
  {
   "cell_type": "code",
   "execution_count": null,
   "id": "e2fa8e57-c8a9-4ae1-a264-2726116d2627",
   "metadata": {},
   "outputs": [],
   "source": [
    "pd.read_pickle(f'transitivity_results/pearson_TransJanusDDG_N{N}.pkl')"
   ]
  },
  {
   "cell_type": "code",
   "execution_count": null,
   "id": "9acb8f9b-c87f-43fb-a360-d9e693f2bc6c",
   "metadata": {},
   "outputs": [],
   "source": [
    "[correlations_dict[num] for num in correlations_dict.keys()]"
   ]
  },
  {
   "cell_type": "code",
   "execution_count": 28,
   "id": "062bae4e-aa10-46fa-9d11-7bd4e44d63a6",
   "metadata": {},
   "outputs": [
    {
     "data": {
      "image/png": "[encoded data removed]",
      "text/plain": [
       "<Figure size 1200x900 with 1 Axes>"
      ]
     },
     "metadata": {},
     "output_type": "display_data"
    }
   ],
   "source": [
    "import pandas as pd\n",
    "import seaborn as sns\n",
    "import matplotlib.pyplot as plt\n",
    "\n",
    "# Funzione per calcolare le correlazioni e preparare i dati\n",
    "def calculate_correlations(files, df0_file, label_prefix):\n",
    "    dfs = [pd.read_csv(f) for f in files]\n",
    "    correlations_list = []  # Lista per tutte le correlazioni\n",
    "    df_labels = []  # Lista per etichettare i dataframe\n",
    "    group_labels = []  # Lista per etichettare il gruppo (JANUS o BASEANTY)\n",
    "\n",
    "    # Carica il dataframe df0\n",
    "    df0 = pd.read_csv(df0_file)\n",
    "\n",
    "    # Verifica che la colonna '0' esista in df0\n",
    "    if '0' not in df0.columns:\n",
    "        raise ValueError(f\"La colonna '0' non esiste in {df0_file}!\")\n",
    "\n",
    "    # Calcolare le correlazioni\n",
    "    for df, num in zip(dfs, range(1, 10, 2)):\n",
    "        for col in df.columns[1:]:  # Escludiamo la prima colonna (indice)\n",
    "            corr = df[col].corr(df0['0'])  # Calcolare la correlazione di Pearson\n",
    "            correlations_list.append(corr)  # Aggiungi la correlazione alla lista\n",
    "            df_labels.append(num)  # Etichetta il dataframe con il suo numero\n",
    "            group_labels.append(label_prefix)  # Aggiungi il gruppo (JANUS o BASEANTY)\n",
    "\n",
    "    return correlations_list, df_labels, group_labels\n",
    "\n",
    "# Elenco dei file e calcolo per i dataframe JANUS\n",
    "files_janus = [f's669_DDGjanus_FINALE_TRANSITIVITY_N{i}.csv' for i in range(1, 10, 2)]\n",
    "df0_janus = 's669_DDGjanus_FINALE_TRANSITIVITY_N0.csv'\n",
    "correlations_janus, df_labels_janus, group_labels_janus = calculate_correlations(files_janus, df0_janus, 'JanusDDG Fine Tuned')\n",
    "\n",
    "# Elenco dei file e calcolo per i dataframe BASEANTY\n",
    "files_baseanty = [f's669_DDGjanusBASEANTY_TRANSITIVITY_N{i}.csv' for i in range(1, 10, 2)]\n",
    "df0_baseanty = 's669_DDGjanusBASEANTY_TRANSITIVITY_N0.csv'\n",
    "correlations_baseanty, df_labels_baseanty, group_labels_baseanty = calculate_correlations(files_baseanty, df0_baseanty, 'JanusDDG Antisym.')\n",
    "\n",
    "# Elenco dei file e calcolo per i dataframe BASEANTY\n",
    "files_base = [f's669_DDGjanusBASE_TRANSITIVITY_N{i}.csv' for i in range(1, 10, 2)]\n",
    "df0_base = 's669_DDGjanusBASE_TRANSITIVITY_N0.csv'\n",
    "correlations_base, df_labels_base, group_labels_base = calculate_correlations(files_base, df0_base, 'JanusDDG Base')\n",
    "\n",
    "# Combina i dati di entrambe le categorie\n",
    "correlations_list = correlations_janus + correlations_baseanty +correlations_base\n",
    "df_labels_combined = df_labels_janus + df_labels_baseanty + df_labels_base\n",
    "group_labels_combined = group_labels_janus + group_labels_baseanty + group_labels_base\n",
    "\n",
    "# Creare un box plot delle correlazioni\n",
    "plt.figure(figsize=(12, 9))\n",
    "sns.boxplot(x=df_labels_combined, y=correlations_list, hue=group_labels_combined, palette=\"Set2\", dodge=False)\n",
    "plt.title(r'PCC($\\Delta\\Delta G), \\Delta\\Delta G^*$)')\n",
    "plt.xlabel('N Steps')\n",
    "plt.ylabel('Pearson Correlation')\n",
    "\n",
    "# Impostiamo le etichette x senza inclinazione\n",
    "plt.xticks(rotation=0)  # Manteniamo le etichette x orizzontali\n",
    "plt.legend(title=\"Models\", loc='upper right')\n",
    "plt.show()\n"
   ]
  },
  {
   "cell_type": "code",
   "execution_count": 85,
   "id": "a4226068-c51a-423a-80a0-7f66396eb77c",
   "metadata": {},
   "outputs": [
    {
     "name": "stderr",
     "output_type": "stream",
     "text": [
      "/tmp/ipykernel_269817/3444429082.py:53: UserWarning: The palette list has more values (4) than needed (3), which may not be intended.\n",
      "  sns.boxplot(x=df_labels_combined, y=correlations_list, hue=group_labels_combined, palette=custom_palette, dodge=False)\n"
     ]
    },
    {
     "data": {
      "image/png": "[encoded data removed]",
      "text/plain": [
       "<Figure size 1200x900 with 1 Axes>"
      ]
     },
     "metadata": {},
     "output_type": "display_data"
    }
   ],
   "source": [
    "import pandas as pd\n",
    "import seaborn as sns\n",
    "import matplotlib.pyplot as plt\n",
    "\n",
    "# Imposta lo stile per un aspetto pulito e professionale\n",
    "sns.set_style(\"whitegrid\")\n",
    "plt.rcParams.update({'font.size': 14})  # Aumenta la dimensione del font\n",
    "\n",
    "# Funzione per calcolare le correlazioni e preparare i dati\n",
    "def calculate_correlations(files, df0_file, label_prefix):\n",
    "    dfs = [pd.read_csv(f) for f in files]\n",
    "    correlations_list = []  \n",
    "    df_labels = []  \n",
    "    group_labels = []  \n",
    "\n",
    "    df0 = pd.read_csv(df0_file)\n",
    "\n",
    "    if '0' not in df0.columns:\n",
    "        raise ValueError(f\"La colonna '0' non esiste in {df0_file}!\")\n",
    "\n",
    "    for df, num in zip(dfs, range(1, 10, 2)):\n",
    "        for col in df.columns[1:]:  \n",
    "            corr = df[col].corr(df0['0'])  \n",
    "            correlations_list.append(corr)  \n",
    "            df_labels.append(num)  \n",
    "            group_labels.append(label_prefix)  \n",
    "\n",
    "    return correlations_list, df_labels, group_labels\n",
    "\n",
    "# Caricamento dati\n",
    "files_janus = [f's669_DDGjanus_FINALE_TRANSITIVITY_N{i}.csv' for i in range(1, 10, 2)]\n",
    "df0_janus = 's669_DDGjanus_FINALE_TRANSITIVITY_N0.csv'\n",
    "correlations_janus, df_labels_janus, group_labels_janus = calculate_correlations(files_janus, df0_janus, 'JanusDDG')\n",
    "\n",
    "files_baseanty = [f's669_DDGjanusBASEANTY_TRANSITIVITY_N{i}.csv' for i in range(1, 10, 2)]\n",
    "df0_baseanty = 's669_DDGjanusBASEANTY_TRANSITIVITY_N0.csv'\n",
    "correlations_baseanty, df_labels_baseanty, group_labels_baseanty = calculate_correlations(files_baseanty, df0_baseanty, 'JanusDDG only Antisym.')\n",
    "\n",
    "files_base = [f's669_DDGjanusBASE_TRANSITIVITY_N{i}.csv' for i in range(1, 10, 2)]\n",
    "df0_base = 's669_DDGjanusBASE_TRANSITIVITY_N0.csv'\n",
    "correlations_base, df_labels_base, group_labels_base = calculate_correlations(files_base, df0_base, 'JanusDDG Base')\n",
    "\n",
    "# Combina i dati\n",
    "correlations_list = correlations_janus + correlations_baseanty + correlations_base\n",
    "df_labels_combined = df_labels_janus + df_labels_baseanty + df_labels_base\n",
    "group_labels_combined = group_labels_janus + group_labels_baseanty + group_labels_base\n",
    "\n",
    "# Palette personalizzata\n",
    "custom_palette = [\"#C4421A\", \"#F98F45\", \"#97CECC\", \"#12908E\"]\n",
    "\n",
    "# Creazione del grafico\n",
    "plt.figure(figsize=(12, 9))\n",
    "sns.boxplot(x=df_labels_combined, y=correlations_list, hue=group_labels_combined, palette=custom_palette, dodge=False)\n",
    "\n",
    "# Miglioramenti grafici\n",
    "#plt.title(r'PCC($\\mathbf{\\Delta\\Delta G(A,B), \\Delta\\Delta G^*(A,B)}$)', fontsize=16, fontweight='bold')\n",
    "plt.xlabel('N Steps', fontsize=20)\n",
    "plt.ylabel(r'PCC($\\Delta\\Delta G, \\Delta\\Delta G^*$)', fontsize=20)\n",
    "plt.xticks(rotation=0,fontsize=20)  # Mantieni le etichette orizzontali\n",
    "plt.yticks(rotation=0,fontsize=20)  # Mantieni le etichette orizzontali\n",
    "\n",
    "# Miglioramento della legenda\n",
    "#plt.legend(title=\"Models\", bbox_to_anchor=(1.05, 1), loc='upper left', borderaxespad=0.,fontsize=18)\n",
    "plt.legend(loc='upper center', bbox_to_anchor=(0.5, 1.13), ncol=3, fontsize=25)\n",
    "# Ottimizza la disposizione degli elementi\n",
    "plt.tight_layout()\n",
    "\n",
    "# Mostra il grafico\n",
    "plt.show()\n"
   ]
  },
  {
   "cell_type": "code",
   "execution_count": 82,
   "id": "4a234871-66cd-4243-a928-48d2fe96d5c8",
   "metadata": {},
   "outputs": [
    {
     "data": {
      "image/png": "[encoded data removed]",
      "text/plain": [
       "<Figure size 1200x600 with 1 Axes>"
      ]
     },
     "metadata": {},
     "output_type": "display_data"
    }
   ],
   "source": [
    "\n",
    "\n",
    "import matplotlib.pyplot as plt\n",
    "import seaborn as sns\n",
    "\n",
    "# Dati\n",
    "models = ['JanusDDG Fine Tuned', 'JanusDDG Antisym.', 'JanusDDG Base']\n",
    "values = [0.98, 0.96, 0.94]  # Valori del Pearson\n",
    "palette = ['#C4421A', '#F98F45', '#97CECC']  # Stessa palette\n",
    "\n",
    "# Creazione del bar plot\n",
    "plt.figure(figsize=(12, 6))\n",
    "bars = plt.bar(range(len(values)), values, color=palette)\n",
    "\n",
    "# Titolo e etichette\n",
    "#plt.title(r'Pearson Correlation between $\\Delta\\Delta G$ and $\\Delta\\Delta G^*$', fontsize=14, fontweight='bold')\n",
    "plt.ylabel(r'PCC($\\Delta\\Delta G, \\Delta\\Delta G^*$)', fontsize=18)\n",
    "plt.xticks([])  # Rimuove le etichette dell'asse X\n",
    "\n",
    "# Aggiunta della legenda\n",
    "#plt.legend(bars, models, loc=\"upper right\", fontsize=10, bbox_to_anchor=(1.2, 1.10))\n",
    "\n",
    "# Impostiamo i limiti dell'asse Y per migliore leggibilità\n",
    "plt.ylim(0.9, 1.0)\n",
    "\n",
    "# Rendi più visibili i valori sopra le barre\n",
    "for i, v in enumerate(values):\n",
    "    plt.text(i, v + 0.005, f\"{v:.2f}\", ha='center', fontsize=20, fontweight='bold')\n",
    "\n",
    "# Mostra il grafico\n",
    "plt.show()\n"
   ]
  },
  {
   "cell_type": "code",
   "execution_count": null,
   "id": "a93d4ed1-1946-4515-b65c-8d665fc22f81",
   "metadata": {},
   "outputs": [],
   "source": [
    "import pandas as pd\n",
    "import numpy as np\n",
    "import seaborn as sns\n",
    "import matplotlib.pyplot as plt\n",
    "\n",
    "# Supponiamo che i tuoi dataframe siano già caricati in queste variabili:\n",
    "# df1, df3, df5, df7, df9, df0\n",
    "\n",
    "# Elenco dei dataframe\n",
    "dfs = [pd.read_csv(f's669_DDGjanus_FINALE_TRANSITIVITY_N{i}.csv') for i in range(1,10,2)]\n",
    "correlations = []\n",
    "\n",
    "# Calcolare la correlazione di Pearson tra ogni colonna dei dataframe (df1, df3, ..., df9)\n",
    "# e l'unica colonna di df0 (assumiamo che df0 abbia una sola colonna)\n",
    "df0 = pd.read_csv('s669_DDGjanus_FINALE_TRANSITIVITY_N0.csv')  # Nome della colonna di df0\n",
    "\n",
    "for df in dfs:\n",
    "    for col in df.columns[1:]:\n",
    "        # Calcolare la correlazione di Pearson\n",
    "        corr = df[col].corr(df0['0'])\n",
    "        correlations.append(corr)\n",
    "\n",
    "# Creare un box plot delle correlazioni\n",
    "plt.figure(figsize=(10, 6))\n",
    "sns.boxplot(data=correlations)\n",
    "plt.title('Distribuzione delle correlazioni di Pearson')\n",
    "plt.ylabel('Correlazione')\n",
    "plt.show()\n"
   ]
  },
  {
   "cell_type": "code",
   "execution_count": null,
   "id": "2c253b49-1b1b-47e9-9edd-f87b49318dbe",
   "metadata": {},
   "outputs": [],
   "source": [
    "import pandas as pd\n",
    "import matplotlib.pyplot as plt\n",
    "import seaborn as sns\n",
    "\n",
    "# Lista dei valori di N\n",
    "N_values = [1, 3, 5, 7,9]\n",
    "\n",
    "# Lista per memorizzare i dati di Pearson per ogni file\n",
    "data = []\n",
    "data_naive=[]\n",
    "\n",
    "pred_N0 = pd.read_csv('s669_DDGjanus_FINALE_TRANSITIVITY_N0.csv')\n",
    "\n",
    "# Carica i file pickle\n",
    "for N in N_values:\n",
    "    # Carica il dataframe da file pickle\n",
    "    df = pd.read_pickle(f'transitivity_results/pearson_TransJanusDDG_N{N}.pkl')\n",
    "    \n",
    "    # Aggiungi una colonna con il valore di N (in modo che i valori possano essere tracciati nel boxplot)\n",
    "    df['N'] = N\n",
    "    \n",
    "    # Aggiungi i risultati nel data list\n",
    "    data.append(df)\n",
    "\n",
    "N_values = [1, 3,5,7,9]\n",
    "\n",
    "# Carica i file pickle\n",
    "for N in N_values:\n",
    "    # Carica il dataframe da file pickle\n",
    "    df = pd.read_pickle(f'transitivity_results/pearson_JanusDDG_N{N}.pkl')\n",
    "    \n",
    "    # Aggiungi una colonna con il valore di N (in modo che i valori possano essere tracciati nel boxplot)\n",
    "    df['N'] = N\n",
    "    \n",
    "    # Aggiungi i risultati nel data list\n",
    "    data_naive.append(df)\n",
    "\n",
    "# Unisci tutti i dataframe in un unico dataframe\n",
    "df_all = pd.concat(data)\n",
    "df_naive_all = pd.concat(data_naive)\n",
    "\n",
    "# Imposta il grafico\n",
    "plt.figure(figsize=(8, 6))\n",
    "sns.boxplot(x='N', y='statistic', data=df_all, label='JanusDDG Fine Tuned')\n",
    "\n",
    "sns.boxplot(x='N', y='statistic', data=df_naive_all, label='JanusDDG')\n",
    "\n",
    "plt.xticks(fontsize=16)\n",
    "plt.yticks(fontsize=16)\n",
    "\n",
    "# Legenda con font più grande\n",
    "plt.legend(fontsize=16)\n",
    "\n",
    "# Etichetta gli assi\n",
    "plt.xlabel('N Steps',fontsize=16)\n",
    "plt.ylabel('Pearson Correlation',fontsize=16)\n",
    "\n",
    "# Mostra il grafico\n",
    "#plt.title('Boxplot of Pearson Correlation for Different N')\n",
    "plt.show()\n"
   ]
  },
  {
   "cell_type": "code",
   "execution_count": null,
   "id": "c317c293-bc12-464f-a093-6103185679ae",
   "metadata": {},
   "outputs": [],
   "source": [
    "data_naive"
   ]
  },
  {
   "cell_type": "code",
   "execution_count": null,
   "id": "b9f995e2-aed9-4b42-a27a-6a79e39640af",
   "metadata": {},
   "outputs": [],
   "source": [
    "assert False"
   ]
  },
  {
   "cell_type": "code",
   "execution_count": null,
   "id": "d2295dbf-47dd-4284-963f-7fe2ae99e396",
   "metadata": {},
   "outputs": [],
   "source": [
    "\n",
    "# all_predictions_test_dir.to_pickle(f's669_Hydra_25transit_0_step_dir.pkl')\n",
    "# all_predictions_test_inv.to_pickle(f's669_Hydra_25transit_0_step_inv.pkl')"
   ]
  },
  {
   "cell_type": "code",
   "execution_count": null,
   "id": "54fc435b-9734-4370-be6c-def910d35403",
   "metadata": {},
   "outputs": [],
   "source": [
    "plt.hist(all_predictions_test_dir,bins=50)"
   ]
  },
  {
   "cell_type": "code",
   "execution_count": null,
   "id": "71fd27f5-cfd2-4073-82cb-76c7c7bb9768",
   "metadata": {},
   "outputs": [],
   "source": [
    "#all_predictions_test_inv.to_pickle('pred_cdna117k_inv_janus.pkl')"
   ]
  },
  {
   "cell_type": "code",
   "execution_count": null,
   "id": "398fb16c-008c-4deb-85f9-e59216f6ea65",
   "metadata": {},
   "outputs": [],
   "source": [
    "metrics((all_predictions_test_dir-all_predictions_test_inv)/2,-(all_predictions_test_dir-all_predictions_test_inv)/2, all_lables_test_dir)"
   ]
  },
  {
   "cell_type": "code",
   "execution_count": null,
   "id": "f078d8db-57a8-4a78-81f9-7ded3edc5a12",
   "metadata": {},
   "outputs": [],
   "source": [
    "metrics(all_predictions_test_dir,all_predictions_test_inv, all_lables_test_dir)"
   ]
  },
  {
   "cell_type": "code",
   "execution_count": null,
   "id": "65731f87-adf0-49f3-835a-96345baa92c1",
   "metadata": {},
   "outputs": [],
   "source": [
    "pearson = []\n",
    "\n",
    "step_0_dir = pd.read_pickle(f's669_Hydra_25transit_0_step_dir.pkl').values\n",
    "step_0_inv = pd.read_pickle(f's669_Hydra_25transit_0_step_inv.pkl').values\n",
    "\n",
    "for i in range(2,11):\n",
    "    dir = pd.read_pickle(f's669_Hydra_25transit_{i}_step_dir.pkl').values\n",
    "    inv = pd.read_pickle(f's669_Hydra_25transit_{i}_step_inv.pkl').values\n",
    "    pearson.append(pearsonr((step_0_dir-step_0_inv)/2,(dir-inv)/2)[0])"
   ]
  },
  {
   "cell_type": "code",
   "execution_count": null,
   "id": "8278888a-74fe-4539-9c35-d41526ae2622",
   "metadata": {},
   "outputs": [],
   "source": [
    "pearson"
   ]
  },
  {
   "cell_type": "code",
   "execution_count": null,
   "id": "0f0ac8a3-8855-44ee-af96-f534f2295d14",
   "metadata": {},
   "outputs": [],
   "source": [
    "#pearsonr(pd.read_pickle(f's669_Hydra_4_step_dir.pkl').values, step_0_dir)"
   ]
  },
  {
   "cell_type": "code",
   "execution_count": null,
   "id": "adf5370d-98de-4f0b-bfb7-56ba43544610",
   "metadata": {},
   "outputs": [],
   "source": [
    "pearson_2 = []\n",
    "\n",
    "step_0_dir = pd.read_pickle(f's669_Hydra_0_step_dir.pkl').values\n",
    "step_0_inv = pd.read_pickle(f's669_Hydra_0_step_inv.pkl').values\n",
    "\n",
    "for i in range(2,11):\n",
    "    dir = pd.read_pickle(f's669_Hydra_{i}_step_dir.pkl').values\n",
    "    inv = pd.read_pickle(f's669_Hydra_{i}_step_inv.pkl').values\n",
    "    pearson_2.append(pearsonr((step_0_dir-step_0_inv)/2,(dir-inv)/2)[0])"
   ]
  },
  {
   "cell_type": "code",
   "execution_count": null,
   "id": "bc24ed1b-bf5f-4595-988e-aa6774bf6c60",
   "metadata": {},
   "outputs": [],
   "source": [
    "pearson_2"
   ]
  },
  {
   "cell_type": "code",
   "execution_count": null,
   "id": "d14bf721-8bbe-439e-8639-7c498177e097",
   "metadata": {},
   "outputs": [],
   "source": [
    "sns.scatterplot(x=[i for i in range(2,11)],y=pearson_2, label='JanusDDG')\n",
    "plt.xlabel('N Steps')\n",
    "plt.ylabel('Pearson Correlation')\n",
    "sns.scatterplot(x=[i for i in range(2,11)],y=pearson, label='JanusDDG Fine Tuned')\n",
    "plt.xlabel('N Steps')\n",
    "plt.ylabel('Pearson Correlation')"
   ]
  },
  {
   "cell_type": "code",
   "execution_count": null,
   "id": "966e3fb3-7a18-4230-bbe0-6e2d1538dc22",
   "metadata": {},
   "outputs": [],
   "source": [
    "assert False"
   ]
  },
  {
   "cell_type": "code",
   "execution_count": null,
   "id": "b67f1f21-e547-4499-935d-6bfe53928cee",
   "metadata": {},
   "outputs": [],
   "source": [
    "df_ordinati = pd.read_pickle('indici_ordinati_s669.pkl')\n",
    "df_ordinati = df_ordinati.sort_values(by='index_castrense')\n",
    "df_ordinati\n",
    "\n",
    "df_to_piero = df_ordinati.loc[:,[0, 1,'DDG']]\n",
    "df_to_piero = df_to_piero.rename(columns={0:'PDB', 1:'MUT'})\n",
    "df_to_piero['CHAIN'] = df_to_piero['PDB'].map(lambda x: x[-1])\n",
    "df_to_piero['PDB'] = df_to_piero['PDB'].map(lambda x: x[:-1])\n",
    "\n",
    "df_to_piero = df_to_piero.loc[:,['PDB','CHAIN','MUT','DDG']]\n",
    "df_to_piero['DDG_PRED']=all_predictions_test_dir.values\n",
    "\n",
    "df_to_piero\n",
    "pearsonr(df_to_piero['DDG'].values,df_to_piero['DDG_PRED'].values )\n",
    "df_to_piero.to_csv('Dataset_s669_pred_X_Piero.csv')"
   ]
  },
  {
   "cell_type": "code",
   "execution_count": null,
   "id": "7cf9b054-8545-42df-953a-de10b2d7b914",
   "metadata": {},
   "outputs": [],
   "source": [
    "df_to_piero.loc[665,:]"
   ]
  },
  {
   "cell_type": "code",
   "execution_count": null,
   "id": "8fc5500b-6bbf-4584-946e-5105b73d0424",
   "metadata": {},
   "outputs": [],
   "source": [
    "# df = pd.read_pickle('df_mapping_s2450_s2648.pkl')\n",
    "# df = df.sort_values(by='index_cas')\n",
    "# df['DDG_PRED']= all_predictions_test_dir.values\n",
    "# df = df[['PDB','CHAIN',\t'MUT',\t'DDG', 'DDG_PRED']]\n",
    "# df.to_csv('Dataset_s2450_pred_X_Piero.csv')"
   ]
  },
  {
   "cell_type": "code",
   "execution_count": null,
   "id": "f542a4cc-d896-431f-b4bd-067bd03910ec",
   "metadata": {},
   "outputs": [],
   "source": [
    "pd.read_excel('TS1.xlsx',header=1).iloc[2483:,]"
   ]
  },
  {
   "cell_type": "code",
   "execution_count": null,
   "id": "ab6b3c72-f269-4225-ba6a-8aec590227c2",
   "metadata": {},
   "outputs": [],
   "source": [
    "assert False\n",
    "\n",
    "#studio distanza e doppie"
   ]
  },
  {
   "cell_type": "code",
   "execution_count": null,
   "id": "4c8dd2a0-69c0-4002-8883-977c8c342aa0",
   "metadata": {},
   "outputs": [],
   "source": [
    "df = pd.DataFrame({\n",
    "    \"Predictions\": -all_predictions_test_dir.values.flatten(),\n",
    "    \"Labels\": all_lables_test_dir.values.flatten(),\n",
    "    \"Distance\": np.array([np.abs(i[0][0][1] - i[0][0][0]).item() for i in p_dir])\n",
    "})\n",
    "\n",
    "df\n"
   ]
  },
  {
   "cell_type": "code",
   "execution_count": null,
   "id": "7829c73e-b590-470a-91d8-942fe09c6ff3",
   "metadata": {},
   "outputs": [],
   "source": [
    "plt.hist(df['Distance'].values, bins=50)"
   ]
  },
  {
   "cell_type": "code",
   "execution_count": null,
   "id": "50e9bc36-c6c3-4bb0-866e-0bcef94f3207",
   "metadata": {},
   "outputs": [],
   "source": [
    "pearson_and_dist = []\n",
    "num_samples= []\n",
    "\n",
    "for dist in range(3,100,1):\n",
    "    df_dist = df[df['Distance']<dist]\n",
    "    num_samples.append(df_dist.shape[0]/df.shape[0])\n",
    "\n",
    "    pearson_and_dist.append(pearsonr(df_dist['Predictions'].values,df_dist['Labels'].values)[0])\n",
    "\n",
    "plt.plot(pearson_and_dist)\n",
    "#plt.plot(num_samples)\n",
    "#plt.yscale('log')"
   ]
  },
  {
   "cell_type": "code",
   "execution_count": null,
   "id": "8bf341e2-9d13-4a07-902b-c2c99940c43c",
   "metadata": {},
   "outputs": [],
   "source": [
    "pearson_and_dist = []\n",
    "num_samples= []\n",
    "for dist in range(2,80,1):\n",
    "    df_dist = df[df['Distance']>dist]\n",
    "    num_samples.append(df_dist.shape[0]/df.shape[0])\n",
    "    pearson_and_dist.append(pearsonr(df_dist['Predictions'].values,df_dist['Labels'].values)[0])\n",
    "\n",
    "plt.plot(pearson_and_dist)\n",
    "#plt.plot(num_samples)"
   ]
  },
  {
   "cell_type": "code",
   "execution_count": null,
   "id": "32271fbe-4d79-4b08-ad2a-6265e29f0aa3",
   "metadata": {},
   "outputs": [],
   "source": [
    "pearson_and_dist = []\n",
    "num_samples= []\n",
    "for dist in range(10,100,1):\n",
    "    df_dist = df[(df['Distance'] > dist- 10) & (df['Distance'] < (dist + 10))]\n",
    "    num_samples.append(df_dist.shape[0]/df.shape[0])\n",
    "    pearson_and_dist.append(pearsonr(df_dist['Predictions'].values,df_dist['Labels'].values)[0])\n",
    "\n",
    "plt.plot(pearson_and_dist)\n",
    "#plt.plot(num_samples)"
   ]
  },
  {
   "cell_type": "code",
   "execution_count": null,
   "id": "75f7a128-32c4-48be-9102-7c98703c588f",
   "metadata": {},
   "outputs": [],
   "source": [
    "assert False"
   ]
  },
  {
   "cell_type": "code",
   "execution_count": null,
   "id": "6e96715a-9e26-42d8-9d0f-b79a644fe19b",
   "metadata": {},
   "outputs": [],
   "source": []
  },
  {
   "cell_type": "code",
   "execution_count": null,
   "id": "3670c212-e1e9-42d0-a371-f55fa04aa824",
   "metadata": {},
   "outputs": [],
   "source": []
  },
  {
   "cell_type": "code",
   "execution_count": null,
   "id": "58785477-00d5-4302-a981-914768d2e7dd",
   "metadata": {},
   "outputs": [],
   "source": []
  },
  {
   "cell_type": "code",
   "execution_count": null,
   "id": "0fde8a06-5681-4d0f-bfb0-aff77c97fcd9",
   "metadata": {},
   "outputs": [],
   "source": []
  },
  {
   "cell_type": "code",
   "execution_count": null,
   "id": "97c26716-ea9d-41a6-9869-27dc80d3d6cc",
   "metadata": {},
   "outputs": [],
   "source": []
  },
  {
   "cell_type": "code",
   "execution_count": null,
   "id": "5b8a1b5c-62ae-4f90-a656-e881f884be14",
   "metadata": {},
   "outputs": [],
   "source": []
  },
  {
   "cell_type": "code",
   "execution_count": null,
   "id": "b7e296cf-51ce-421c-ab1b-fe6fc12a0434",
   "metadata": {},
   "outputs": [],
   "source": [
    "all_predictions_test, all_lables_test = model_performance_test(best_model,dataloader_test,\n",
    "                                                          inv=False, train=False)"
   ]
  },
  {
   "cell_type": "code",
   "execution_count": null,
   "id": "94ee06d0-a0e6-4327-b20a-1bbc4ecddcc2",
   "metadata": {},
   "outputs": [],
   "source": [
    "print(f'Pearson test dirette: {pearsonr(torch.cat(all_predictions_test, dim=0).cpu(), torch.cat(all_lables_test, dim=0).cpu())}')   \n",
    "print(f'RMSE dirette: {root_mean_squared_error(torch.cat(all_predictions_test, dim=0).cpu(),torch.cat(all_lables_test, dim=0).cpu())}')\n",
    "print(f'MAE dirette: {mean_absolute_error(torch.cat(all_predictions_test, dim=0).cpu(),torch.cat(all_lables_test, dim=0).cpu())}')"
   ]
  },
  {
   "cell_type": "code",
   "execution_count": null,
   "id": "fee49360-e73b-4945-8f48-a3dc7addce15",
   "metadata": {},
   "outputs": [],
   "source": [
    "pearsonr(torch.cat(all_predictions_test, dim=0).cpu()[:669],torch.cat(all_predictions_test, dim=0).cpu()[669:])"
   ]
  },
  {
   "cell_type": "code",
   "execution_count": null,
   "id": "ba6ae410-5d3c-4e99-a754-775fdf4c9fef",
   "metadata": {},
   "outputs": [],
   "source": [
    "(torch.cat(all_predictions_test, dim=0).cpu()[:669] + torch.cat(all_predictions_test, dim=0).cpu()[669:]).mean()"
   ]
  },
  {
   "cell_type": "code",
   "execution_count": null,
   "id": "1682cfa5-0193-46d4-8092-398a900d5eb2",
   "metadata": {},
   "outputs": [],
   "source": [
    "#pd.Series(torch.cat(all_predictions_test, dim=0).cpu()).to_pickle('DDGemb_cross_0_predictions.pkl')"
   ]
  },
  {
   "cell_type": "code",
   "execution_count": null,
   "id": "b188b42b-b44c-40c2-b63b-5ddd5742d48c",
   "metadata": {},
   "outputs": [],
   "source": [
    "pd.read_pickle('indici_ordinati_s669.pkl').sort_values(by='index_castrense')['DDG'].values"
   ]
  },
  {
   "cell_type": "code",
   "execution_count": null,
   "id": "68b8fd86-2002-4008-83c4-71e242fb371f",
   "metadata": {},
   "outputs": [],
   "source": [
    "indici_ordinati = pd.read_pickle('indici_ordinati_s669.pkl').sort_values(by='index_castrense')['index'].values\n",
    "pythia_s669 = pd.read_csv('../DeltaDeltaG/pythia_s669.csv').iloc[indici_ordinati,:]['Pythia_inv']\n",
    "info_mut = pd.read_csv('../DeltaDeltaG/pythia_s669.csv').iloc[indici_ordinati,:][['wildtype','mutation']]\n",
    "pred_janus= np.array(torch.cat(all_predictions_test, dim=0).cpu())\n",
    "true_ddg = pd.read_pickle('indici_ordinati_s669.pkl').sort_values(by='index_castrense')['DDG'].values#np.array(torch.cat(all_lables_test, dim=0).cpu())\n",
    "\n",
    "df = pd.DataFrame({\n",
    "    'wild':info_mut.iloc[:,0].values,\n",
    "    'mut':info_mut.iloc[:,1].values,\n",
    "    'pythia_s669': pythia_s669.values,  # Deve avere la stessa lunghezza di predictions\n",
    "    'predictions': pred_janus,  # Ogni riga avrà un valore scalare o un array se multidimensionale\n",
    "    'true_ddg':true_ddg\n",
    "})\n",
    "df.index = indici_ordinati\n",
    "print('Pearson s669: ', pearsonr(df['predictions'],df['true_ddg']))   \n",
    "\n",
    "\n",
    "indici_ordinati_s461  = pd.read_pickle('indici_ordinati_s669.pkl').dropna(subset='s461_pdb').sort_values(by='index_castrense')['index'].values\n",
    "\n"
   ]
  },
  {
   "cell_type": "code",
   "execution_count": null,
   "id": "d1a56c97-8744-4a04-bdc9-be2ce4820a77",
   "metadata": {},
   "outputs": [],
   "source": []
  },
  {
   "cell_type": "code",
   "execution_count": null,
   "id": "44c0dbdd-0575-4644-9e16-54e5365361fd",
   "metadata": {},
   "outputs": [],
   "source": [
    "rose_csv = pd.read_csv('rose1985.csv')\n",
    "\n",
    "def rose_score(row):\n",
    "    wild_rose = rose_csv[rose_csv['Parameter']==row['wild']]['Rose1985'].values[0]\n",
    "    mut_rose = rose_csv[rose_csv['Parameter']==row['mut']]['Rose1985'].values[0]\n",
    "    return wild_rose - mut_rose\n",
    "    \n",
    "df['Rose'] = df.apply(rose_score,axis=1)\n",
    "df"
   ]
  },
  {
   "cell_type": "code",
   "execution_count": null,
   "id": "218f42c7-e87f-476d-9e68-1962b73fd0ba",
   "metadata": {},
   "outputs": [],
   "source": [
    "from sklearn.linear_model import LinearRegression\n",
    "\n",
    "lr = LinearRegression(fit_intercept=False)\n",
    "\n",
    "lr.fit(df[['pythia_s669','Rose']].values,df['true_ddg'].values)\n",
    "pearsonr(lr.predict(df[['pythia_s669','Rose']].values),df['true_ddg'].values)\n",
    "\n"
   ]
  },
  {
   "cell_type": "code",
   "execution_count": null,
   "id": "f17326be-596b-4791-a894-0d1ffb5e188c",
   "metadata": {},
   "outputs": [],
   "source": [
    "pearsonr(df['pythia_s669'].values * 0.11 - df['Rose'].values*0.0088,df['true_ddg'].values)\n"
   ]
  },
  {
   "cell_type": "code",
   "execution_count": null,
   "id": "f5d5c78a-0e44-41b1-a867-993aeb12fb97",
   "metadata": {},
   "outputs": [],
   "source": [
    "df_s461 = df.loc[indici_ordinati_s461,:]"
   ]
  },
  {
   "cell_type": "code",
   "execution_count": null,
   "id": "5f6214df-0511-4eb9-bda5-693e62d6c2d4",
   "metadata": {},
   "outputs": [],
   "source": [
    "print(pearsonr(df_s461['pythia_s669']*0.11-df_s461['Rose']*0.0088 ,df_s461['true_ddg']))   \n",
    "print(pearsonr(df_s461['predictions'],df_s461['true_ddg']))   \n",
    "print('RMSE: ', root_mean_squared_error(df_s461['pythia_s669'],df_s461['true_ddg']))\n",
    "print('MAE: ', mean_squared_error(df_s461['pythia_s669'],df_s461['true_ddg']))\n",
    "\n"
   ]
  },
  {
   "cell_type": "code",
   "execution_count": null,
   "id": "bac82868-6850-48b1-8658-ce454ecac9bb",
   "metadata": {},
   "outputs": [],
   "source": [
    "df"
   ]
  },
  {
   "cell_type": "code",
   "execution_count": null,
   "id": "f869cf8c-309d-447e-9fe3-d9ff8aa1f494",
   "metadata": {},
   "outputs": [],
   "source": [
    "print(pearsonr(df_s461['predictions'],df_s461['true_ddg']))   \n",
    "print(pearsonr(df['predictions'],df['true_ddg']))   \n"
   ]
  },
  {
   "cell_type": "code",
   "execution_count": null,
   "id": "86e10514-d351-4bf0-afae-6504b5aa23b4",
   "metadata": {},
   "outputs": [],
   "source": [
    "print(f'Pearson test dirette: {pearsonr(-0.07416111+ pythia_s669.values*0.09+np.array(torch.cat(all_predictions_test, dim=0).cpu()*0.57), torch.cat(all_lables_test, dim=0).cpu())}')   \n"
   ]
  },
  {
   "cell_type": "code",
   "execution_count": null,
   "id": "000aaa46-0caf-43fd-b2c6-ac151c5259a0",
   "metadata": {},
   "outputs": [],
   "source": [
    "pd.Series(torch.cat(all_predictions_test, dim=0).cpu()).to_pickle('Janus_s669_fake.pkl')"
   ]
  },
  {
   "cell_type": "code",
   "execution_count": null,
   "id": "9f99bb4e-193a-4ec3-ab3a-60ffdcd8432a",
   "metadata": {},
   "outputs": [],
   "source": [
    "dir = torch.cat(all_predictions_test, dim=0).cpu()"
   ]
  },
  {
   "cell_type": "code",
   "execution_count": null,
   "id": "2d4fe39f-7e66-4fb2-a3c0-ccbd739828b0",
   "metadata": {},
   "outputs": [],
   "source": [
    "inv = torch.cat(all_predictions_test, dim=0).cpu()\n"
   ]
  },
  {
   "cell_type": "code",
   "execution_count": null,
   "id": "d3d582d9-99a7-432c-adf4-c35abd6c78ee",
   "metadata": {},
   "outputs": [],
   "source": [
    "tot =(dir-inv) /2"
   ]
  },
  {
   "cell_type": "code",
   "execution_count": null,
   "id": "d1be3358-4f22-4040-8554-79546503f181",
   "metadata": {},
   "outputs": [],
   "source": [
    "tot"
   ]
  },
  {
   "cell_type": "code",
   "execution_count": null,
   "id": "2ec72677-0da4-4bf7-9d6b-5e47a2f2cbd8",
   "metadata": {},
   "outputs": [],
   "source": [
    "metrics( pd.DataFrame(tot),  pd.DataFrame(tot), pd.DataFrame(torch.cat(all_lables_test, dim=0).cpu()))"
   ]
  },
  {
   "cell_type": "code",
   "execution_count": null,
   "id": "ddec5b3b-2bcb-4d82-8af0-b0433820646f",
   "metadata": {},
   "outputs": [],
   "source": [
    "pred_inv = all_predictions_test"
   ]
  },
  {
   "cell_type": "code",
   "execution_count": null,
   "id": "33ff7662-74e9-42df-b80a-82cde66052b3",
   "metadata": {},
   "outputs": [],
   "source": [
    "pred_dirette = all_predictions_test\n",
    "true = all_lables_test"
   ]
  },
  {
   "cell_type": "code",
   "execution_count": null,
   "id": "2b476662-dd1c-4e3a-ab34-e3af2c2a45fe",
   "metadata": {},
   "outputs": [],
   "source": [
    "from sklearn.metrics import root_mean_squared_error,mean_absolute_error\n",
    "\n",
    "metrics( pd.DataFrame(torch.cat(pred_dirette, dim=0).cpu()), pd.DataFrame(torch.cat(pred_inv, dim=0).cpu()), pd.DataFrame(torch.cat(true, dim=0).cpu()))"
   ]
  },
  {
   "cell_type": "code",
   "execution_count": null,
   "id": "dd7a9d69-6ba4-43e4-ae60-f92bbeafb766",
   "metadata": {},
   "outputs": [],
   "source": [
    "50+49+53+51+51"
   ]
  },
  {
   "cell_type": "code",
   "execution_count": null,
   "id": "edbdbec9-4b21-4531-ba01-8934204c449d",
   "metadata": {},
   "outputs": [],
   "source": [
    "for i in range(5):\n",
    "    val_Set = [0,1,2,3,4]\n",
    "    val_Set.remove(i)\n",
    "    print(val_Set)\n",
    "    best_model = torch.load(f'DDGemb_Cross_{i}.pth')\n",
    "    \n",
    "    dataloader_val = dataloader_generation_pred(E_TYPE,  test_path=[f's2450_fold_{i}.pkl']+[f's2450_fold_{i}_inv.pkl'],\n",
    "                                                 batch_size = 6, dataloader_shuffle = False, inv= False)\n",
    "    \n",
    "    all_predictions_val, all_lables_val = model_performance_test(best_model,dataloader_val,\n",
    "                                                              inv=False, train=False)\n",
    "    \n",
    "    \n",
    "    print(f'Pearson test dirette: {pearsonr(torch.cat(all_predictions_val, dim=0).cpu(), torch.cat(all_lables_val, dim=0).cpu())}')   \n"
   ]
  },
  {
   "cell_type": "code",
   "execution_count": null,
   "id": "dfa390cb-681a-4d5a-82cb-46cc2fa384bb",
   "metadata": {},
   "outputs": [],
   "source": []
  },
  {
   "cell_type": "code",
   "execution_count": null,
   "id": "01ecfb7c-e7f0-459e-b576-5e6b0d9d0964",
   "metadata": {},
   "outputs": [],
   "source": [
    "pesi = np.array([0.2,0.21,0.2,0.19,0.2])"
   ]
  },
  {
   "cell_type": "code",
   "execution_count": null,
   "id": "e8abdfd3-0129-4413-8aa0-bb5e72467c68",
   "metadata": {},
   "outputs": [],
   "source": [
    "pred_tot = []\n",
    "\n",
    "for i in range(5):\n",
    "    best_model = torch.load(f'DDGemb_Cross_{i}.pth')\n",
    "    \n",
    "    all_predictions_test, all_lables_test = model_performance_test(best_model,dataloader_test,\n",
    "                                                          inv=False, train=False)\n",
    "    \n",
    "    pred_tot.append(pd.Series(torch.cat(all_predictions_test, dim=0).cpu()))#.to_pickle('DDGemb_Cross_0_predictions_s669.pkl')"
   ]
  },
  {
   "cell_type": "code",
   "execution_count": null,
   "id": "c765fbd4-053c-412f-9190-a991bb5b2cde",
   "metadata": {},
   "outputs": [],
   "source": [
    "pred_inv = pred_tot.copy()"
   ]
  },
  {
   "cell_type": "code",
   "execution_count": null,
   "id": "74b9876e-b6e6-4fba-b529-efc556d6cea6",
   "metadata": {},
   "outputs": [],
   "source": [
    "pred_dir = pred_tot.copy()"
   ]
  },
  {
   "cell_type": "code",
   "execution_count": null,
   "id": "e6205aa5-01dc-4431-b1bc-535f0ab9cf60",
   "metadata": {},
   "outputs": [],
   "source": [
    "pred_tot"
   ]
  },
  {
   "cell_type": "code",
   "execution_count": null,
   "id": "f3707d1d-d3a7-465a-932d-d50fd9580a02",
   "metadata": {},
   "outputs": [],
   "source": [
    "somma_pesata_dir = sum(w * v for w, v in zip(pesi, pred_tot))\n",
    "\n",
    "print(somma_pesata)"
   ]
  },
  {
   "cell_type": "code",
   "execution_count": null,
   "id": "274aa870-2e17-4408-8b37-e7dced6d6351",
   "metadata": {},
   "outputs": [],
   "source": [
    "pesi"
   ]
  },
  {
   "cell_type": "code",
   "execution_count": null,
   "id": "492fc24c-9dc2-44c1-bc3a-23c8a675d18c",
   "metadata": {},
   "outputs": [],
   "source": [
    "somma_pesata_inv = sum(w * v for w, v in zip(pesi, pred_inv))\n"
   ]
  },
  {
   "cell_type": "code",
   "execution_count": null,
   "id": "64ddc96f-7db1-4cee-b761-8145de71a661",
   "metadata": {},
   "outputs": [],
   "source": [
    "r = pred_tot[0]+pred_tot[1]+pred_tot[2]+pred_tot[3]+pred_tot[4]"
   ]
  },
  {
   "cell_type": "code",
   "execution_count": null,
   "id": "497b87d4-0dbb-4384-bb30-20f1711a37f0",
   "metadata": {},
   "outputs": [],
   "source": [
    "from sklearn.metrics import root_mean_squared_error,mean_absolute_error\n",
    "\n",
    "print(f'Pearson test dirette: {pearsonr(somma_pesata, torch.cat(all_lables_test, dim=0).cpu())}')   \n",
    "print(f'Spearmanr test dirette: {spearmanr(somma_pesata, torch.cat(all_lables_test, dim=0).cpu())}')    \n",
    "print(f'RMSE dirette: {root_mean_squared_error(somma_pesata, torch.cat(all_lables_test, dim=0).cpu())}')\n",
    "print(f'MAE dirette: {mean_absolute_error(somma_pesata, torch.cat(all_lables_test, dim=0).cpu())}')"
   ]
  },
  {
   "cell_type": "code",
   "execution_count": null,
   "id": "5a21931a-b3bf-4369-840f-a054a051eff2",
   "metadata": {},
   "outputs": [],
   "source": [
    "somma_pesata"
   ]
  },
  {
   "cell_type": "code",
   "execution_count": null,
   "id": "373fe318-ef98-40d8-8070-897967820ab9",
   "metadata": {},
   "outputs": [],
   "source": [
    "somma_pesata_inv"
   ]
  },
  {
   "cell_type": "code",
   "execution_count": null,
   "id": "529e1404-8d4c-4849-abda-7df1c6045fa4",
   "metadata": {},
   "outputs": [],
   "source": [
    "metrics(pd.DataFrame(somma_pesata_dir),pd.DataFrame(somma_pesata_inv),-pd.DataFrame(torch.cat(all_lables_test, dim=0).cpu()))"
   ]
  },
  {
   "cell_type": "code",
   "execution_count": null,
   "id": "c8ab21d1-dd90-40de-8372-bba1ac3d6f9f",
   "metadata": {},
   "outputs": [],
   "source": [
    "np.mean([386,342,187,497,105])"
   ]
  },
  {
   "cell_type": "code",
   "execution_count": null,
   "id": "e0c2c633-7cea-4235-870c-277482660be8",
   "metadata": {},
   "outputs": [],
   "source": []
  },
  {
   "cell_type": "code",
   "execution_count": null,
   "id": "793be0cd-e2d2-4936-914b-d5760adddabc",
   "metadata": {},
   "outputs": [],
   "source": [
    "best_model = torch.load(f'DDGemb_Cross_4.pth')\n",
    "all_predictions_test, all_lables_test = model_performance(best_model,dataloader_test,\n",
    "                                                          dataloader_train=None,dataloader_validation=None,inv=True, train=False)\n",
    "\n",
    "pred_tot.append(pd.Series(torch.cat(all_predictions_test, dim=0).cpu()))#.to_pickle('DDGemb_Cross_0_predictions_s669.pkl')"
   ]
  },
  {
   "cell_type": "code",
   "execution_count": null,
   "id": "22b68981-6975-495f-b097-aebe0a727f49",
   "metadata": {},
   "outputs": [],
   "source": [
    "from sklearn.metrics import root_mean_squared_error,mean_absolute_error\n",
    "\n",
    "print(f'Pearson test dirette: {pearsonr(torch.cat(all_predictions_test, dim=0).cpu(), torch.cat(all_lables_test, dim=0).cpu())}')   \n",
    "print(f'Spearmanr test dirette: {spearmanr(torch.cat(all_predictions_test, dim=0).cpu(), torch.cat(all_lables_test, dim=0).cpu())}')    \n",
    "print(f'RMSE dirette: {root_mean_squared_error(torch.cat(all_predictions_test, dim=0).cpu(), torch.cat(all_lables_test, dim=0).cpu())}')\n",
    "print(f'MAE dirette: {mean_absolute_error(torch.cat(all_predictions_test, dim=0).cpu(), torch.cat(all_lables_test, dim=0).cpu())}')"
   ]
  },
  {
   "cell_type": "code",
   "execution_count": null,
   "id": "a2f84dea-1498-489e-a115-e83651c553ef",
   "metadata": {},
   "outputs": [],
   "source": []
  },
  {
   "cell_type": "code",
   "execution_count": null,
   "id": "8d63ef67-190b-4822-8178-1a0592a753dd",
   "metadata": {},
   "outputs": [],
   "source": []
  },
  {
   "cell_type": "code",
   "execution_count": null,
   "id": "4fed1a72-757b-43a3-8783-29d054d95e65",
   "metadata": {},
   "outputs": [],
   "source": []
  },
  {
   "cell_type": "code",
   "execution_count": null,
   "id": "0138de61-a8eb-449d-b187-818ba64fe978",
   "metadata": {},
   "outputs": [],
   "source": []
  },
  {
   "cell_type": "code",
   "execution_count": null,
   "id": "9295bed0-f130-4813-8eb5-06a966923c2d",
   "metadata": {},
   "outputs": [],
   "source": []
  },
  {
   "cell_type": "code",
   "execution_count": null,
   "id": "ce649183-a266-431c-833a-6d704e6e2a6e",
   "metadata": {},
   "outputs": [],
   "source": []
  },
  {
   "cell_type": "code",
   "execution_count": null,
   "id": "6455a826-dbe4-402e-97f0-c146853a0d46",
   "metadata": {},
   "outputs": [],
   "source": []
  },
  {
   "cell_type": "code",
   "execution_count": null,
   "id": "015cdf3e-44c1-4a1a-8a90-4eab7b2a147e",
   "metadata": {},
   "outputs": [],
   "source": []
  },
  {
   "cell_type": "code",
   "execution_count": null,
   "id": "3b9a015d-7710-42e8-b972-4fbdf49e4d84",
   "metadata": {},
   "outputs": [],
   "source": [
    "#BOOTSTRAPPING\n",
    "\n",
    "results_naive=[]\n",
    "for i in range(1000):\n",
    "    dataloader_test = dataloader_generation_pred(E_TYPE,  test_path='ddg_s669_ESM2_HYDRA_LITE.pkl',  batch_size = 128, dataloader_shuffle = False, inv= False)\n",
    "\n",
    "    all_predictions_test, all_lables_test = model_performance(best_model,\n",
    "                                                                                                                                           dataloader_test,\n",
    "                                                                                                                                           dataloader_train=None,\n",
    "                                                                                                                                           dataloader_validation=None,         \n",
    "                                                                                                                                           inv=False,\n",
    "                                                                                                                                           train=True)\n",
    "    results_naive.append(pearsonr(torch.cat(all_predictions_test, dim=0).cpu(), torch.cat(all_lables_test, dim=0).cpu())[0]) \n",
    "\n",
    "pd.DataFrame(results_naive).to_pickle('result_bootstrapping_MLP_27_01_2025.pkl')"
   ]
  },
  {
   "cell_type": "code",
   "execution_count": null,
   "id": "869eca65-1ecd-4ae1-874e-96e50352be40",
   "metadata": {},
   "outputs": [],
   "source": [
    "best_model = torch.load('MLP_HYDRA_MEAN_29_01_2025.pth')#('MLP_HYDRA_MEAN_29_01_2025.pth')#'MLP_27_01_2025.pth')#('MPL_HYDRA_model_7W_256_256.pth')\n",
    "best_model.hydra=True\n",
    "results_hydra=[]\n",
    "for i in range(1000):\n",
    "    dataloader_test = dataloader_generation_pred(E_TYPE,  test_path='ddg_s669_ESM2_HYDRA_LITE.pkl',  batch_size = 128, dataloader_shuffle = False, inv= False)\n",
    "\n",
    "    all_predictions_test, all_lables_test = model_performance(best_model,\n",
    "                                                                                                                                           dataloader_test,\n",
    "                                                                                                                                           dataloader_train=None,\n",
    "                                                                                                                                           dataloader_validation=None,         \n",
    "                                                                                                                                           inv=False,\n",
    "                                                                                                                                           train=True)\n",
    "    results_hydra.append(pearsonr(torch.cat(all_predictions_test, dim=0).cpu(), torch.cat(all_lables_test, dim=0).cpu())[0]) \n",
    "\n",
    "pd.DataFrame(results_hydra).to_pickle('result_bootstrapping_MLP_HYDRA_MEAN_29_01_2025.pkl')"
   ]
  },
  {
   "cell_type": "code",
   "execution_count": null,
   "id": "f84b7fb2-6a9a-442a-8f83-332dc5f55ae9",
   "metadata": {},
   "outputs": [],
   "source": [
    "sns.histplot(results_hydra,kde=True,color='blue')\n",
    "sns.histplot(results_naive,kde=True,color='red')\n",
    "from scipy.stats import ks_2samp\n",
    "ks_2samp(results_hydra,results_naive)"
   ]
  },
  {
   "cell_type": "code",
   "execution_count": null,
   "id": "fc1c7802-9ca4-4097-85e7-685cf7901750",
   "metadata": {},
   "outputs": [],
   "source": [
    "sns.histplot(results_hydra,kde=True)\n",
    "sns.histplot(results_naive,kde=True)\n",
    "from scipy.stats import ks_2samp\n",
    "ks_2samp(results_hydra,results_naive)"
   ]
  },
  {
   "cell_type": "code",
   "execution_count": null,
   "id": "c424bec2-19c5-4010-a42d-6222c6c20271",
   "metadata": {},
   "outputs": [],
   "source": [
    "from sklearn.metrics import root_mean_squared_error,mean_absolute_error\n",
    "\n",
    "print(f'Pearson test dirette: {pearsonr(torch.cat(all_predictions_test, dim=0).cpu(), torch.cat(all_lables_test, dim=0).cpu())}')   \n",
    "print(f'Spearmanr test dirette: {spearmanr(torch.cat(all_predictions_test, dim=0).cpu(), torch.cat(all_lables_test, dim=0).cpu())}')    \n",
    "print(f'RMSE dirette: {root_mean_squared_error(torch.cat(all_predictions_test, dim=0).cpu(), torch.cat(all_lables_test, dim=0).cpu())}')\n",
    "print(f'MAE dirette: {mean_absolute_error(torch.cat(all_predictions_test, dim=0).cpu(), torch.cat(all_lables_test, dim=0).cpu())}')"
   ]
  },
  {
   "cell_type": "code",
   "execution_count": null,
   "id": "3828a81b-024a-414b-8e5e-6ba90ee5075e",
   "metadata": {},
   "outputs": [],
   "source": [
    "pd.Series(torch.cat(all_predictions_test, dim=0).cpu())"
   ]
  },
  {
   "cell_type": "code",
   "execution_count": null,
   "id": "5e1a65ae-51b9-4f60-9316-9af940d97886",
   "metadata": {},
   "outputs": [],
   "source": [
    "#pd.Series(torch.cat(all_predictions_train, dim=0).cpu()).to_pickle('MLP_HYDRA_7W_256_256_predictions_esm2_train.pkl')\n",
    "pd.Series(torch.cat(all_predictions_test, dim=0).cpu()).to_pickle('MLP_HYDRA_MEAN_29_01_2025.pkl')\n",
    "#pd.Series(torch.cat(all_predictions_validation, dim=0).cpu()).to_pickle('MLP_HYDRA_7W_256_256_predictions_esm2_val.pkl')\n",
    "# pd.Series(torch.cat(all_lables_train, dim=0).cpu()).to_pickle('MLP_all_lables_train.pkl')\n",
    "# pd.Series(torch.cat(all_lables_test, dim=0).cpu()).to_pickle('MLP_all_lables_test.pkl')\n",
    "# pd.Series(torch.cat(all_lables_validation, dim=0).cpu()).to_pickle('MLP_all_lables_val.pkl')"
   ]
  },
  {
   "cell_type": "code",
   "execution_count": null,
   "id": "9d3e0ef4-d52f-4d60-8d75-e64b0f8e25b2",
   "metadata": {},
   "outputs": [],
   "source": [
    "#####NOMI \n",
    "#'MLP_HYDRA_7W_256_256_predictions_esm2_train.pkl'\n",
    "\n",
    "\n",
    "#####"
   ]
  },
  {
   "cell_type": "code",
   "execution_count": null,
   "id": "073b33ed-c344-46dd-91ae-6055e8523dd5",
   "metadata": {},
   "outputs": [],
   "source": [
    "pd.Series(torch.cat(all_predictions_test, dim=0).cpu()).to_pickle('MLP_HYDRA_7W_256_256_predictions_Protherm_Doubles_pdbnum_2.pkl')\n"
   ]
  },
  {
   "cell_type": "code",
   "execution_count": null,
   "id": "cdf8d7e1-f460-49ca-8210-45949461934f",
   "metadata": {},
   "outputs": [],
   "source": [
    "from sklearn.metrics import root_mean_squared_error,mean_absolute_error\n",
    "\n",
    "print(f'Pearson test d-r: {pearsonr(torch.cat(all_predictions_test, dim=0).cpu(), torch.cat(all_predictions_test_inv, dim=0).cpu())}') "
   ]
  },
  {
   "cell_type": "code",
   "execution_count": null,
   "id": "e87dcd48-a7fd-473c-b1fe-e87ac8963672",
   "metadata": {
    "scrolled": true
   },
   "outputs": [],
   "source": [
    "from sklearn.metrics import root_mean_squared_error,mean_absolute_error\n",
    "\n",
    "print(f'Pearson test dirette: {pearsonr(torch.cat(all_predictions_test, dim=0).cpu(), torch.cat(all_lables_test, dim=0).cpu())}')   \n",
    "print(f'Spearmanr test dirette: {spearmanr(torch.cat(all_predictions_test, dim=0).cpu(), torch.cat(all_lables_test, dim=0).cpu())}')    \n",
    "print(f'RMSE dirette: {root_mean_squared_error(torch.cat(all_predictions_test, dim=0).cpu(), torch.cat(all_lables_test, dim=0).cpu())}')\n",
    "print(f'MAE dirette: {mean_absolute_error(torch.cat(all_predictions_test, dim=0).cpu(), torch.cat(all_lables_test, dim=0).cpu())}')\n",
    "\n",
    "\n",
    "# Pearson test dirette: PearsonRResult(statistic=0.49811210357961794, pvalue=3.0676935334080987e-43)\n",
    "# Pearson test dirette: SignificanceResult(statistic=0.5209411003368696, pvalue=8.229743816346383e-48)\n",
    "# RMSE dirette: 1.4306520223617554\n",
    "# MAE dirette: 1.0020039081573486\n",
    "\n",
    "# Pearson test dirette: PearsonRResult(statistic=0.4984754880369162, pvalue=2.6104865839652876e-43)\n",
    "# Pearson test dirette: SignificanceResult(statistic=0.5219817530960136, pvalue=4.996030095808217e-48)\n",
    "# RMSE dirette: 1.4335042238235474\n",
    "# MAE dirette: 1.0032145977020264"
   ]
  },
  {
   "cell_type": "code",
   "execution_count": null,
   "id": "9a8b8682-79ad-4a78-b29e-b7abe1e0c53e",
   "metadata": {},
   "outputs": [],
   "source": [
    "print(f'Pearson test dirette: {spearmanr(torch.cat(all_predictions_test, dim=0).cpu(), torch.cat(all_lables_test, dim=0).cpu())}')    \n",
    "print(f'RMSE dirette: {root_mean_squared_error(torch.cat(all_predictions_test, dim=0).cpu(), torch.cat(all_lables_test, dim=0).cpu())}')\n",
    "print(f'MAE dirette: {mean_absolute_error(torch.cat(all_predictions_test, dim=0).cpu(), torch.cat(all_lables_test, dim=0).cpu())}')"
   ]
  },
  {
   "cell_type": "code",
   "execution_count": null,
   "id": "f8bba584-dbcf-4a89-9d90-7bc9d3aede00",
   "metadata": {},
   "outputs": [],
   "source": [
    "print(f'Pearson test inverse: {pearsonr(torch.cat(all_predictions_test_inv, dim=0).cpu(), torch.cat(all_lables_test_inv, dim=0).cpu())}')    \n",
    "print(f'RMSE inve: {root_mean_squared_error(torch.cat(all_predictions_test_inv, dim=0).cpu(), torch.cat(all_lables_test_inv, dim=0).cpu())}')\n",
    "print(f'MAE inve: {mean_absolute_error(torch.cat(all_predictions_test_inv, dim=0).cpu(), torch.cat(all_lables_test_inv, dim=0).cpu())}')"
   ]
  },
  {
   "cell_type": "code",
   "execution_count": null,
   "id": "7c026492-0b77-4ae9-912c-35632ee628df",
   "metadata": {},
   "outputs": [],
   "source": [
    "all_predictions_test.extend(all_predictions_test_inv)\n",
    "all_lables_test.extend(all_lables_test_inv)\n",
    "print(f'Pearson test dirette+inverse: {pearsonr(torch.cat(all_predictions_test, dim=0).cpu(), torch.cat(all_lables_test, dim=0).cpu())}')    \n",
    "print(f'RMSE dirette+inverse: {root_mean_squared_error(torch.cat(all_predictions_test, dim=0).cpu(), torch.cat(all_lables_test, dim=0).cpu())}')\n",
    "print(f'MAE dirette+inverse: {mean_absolute_error(torch.cat(all_predictions_test, dim=0).cpu(), torch.cat(all_lables_test, dim=0).cpu())}')"
   ]
  },
  {
   "cell_type": "code",
   "execution_count": null,
   "id": "1c9b1761-2941-44ed-95be-20772e977033",
   "metadata": {},
   "outputs": [],
   "source": [
    "all_predictions_test"
   ]
  },
  {
   "cell_type": "code",
   "execution_count": null,
   "id": "a286b45b-f9f4-4dd2-b2ea-60993c2c1fbd",
   "metadata": {},
   "outputs": [],
   "source": [
    "## "
   ]
  },
  {
   "cell_type": "code",
   "execution_count": null,
   "id": "4855b4db-5922-4b5d-a421-1a632f2b591a",
   "metadata": {},
   "outputs": [],
   "source": [
    "y_esm2_train = pd.read_pickle('MLP_all_predictions_esm2_s2648.pkl')\n",
    "y_esm2_test = pd.read_pickle('MLP_all_predictions_esm2_s669.pkl')\n",
    "\n",
    "y_ohe_train = pd.read_pickle('MLP_all_predictions_ohe_s2648.pkl')\n",
    "y_ohe_test = pd.read_pickle('MLP_all_predictions_ohe_s669.pkl')\n",
    "\n",
    "y_true_test = pd.DataFrame(torch.cat(all_lables_test, dim=0).cpu())\n",
    "y_true_train = pd.DataFrame(torch.cat(all_lables_train, dim=0).cpu())"
   ]
  },
  {
   "cell_type": "code",
   "execution_count": null,
   "id": "6c4f120e-4350-4b51-a81f-4af0feafad93",
   "metadata": {},
   "outputs": [],
   "source": [
    "from sklearn.linear_model import LinearRegression\n",
    "\n",
    "X_train = pd.concat([y_esm2_train,y_ohe_train],axis=1)\n",
    "X_test = pd.concat([y_esm2_test,y_ohe_test],axis=1) \n",
    "y_train = y_true_train\n",
    "\n",
    "lr = LinearRegression()\n",
    "lr.fit(X_train, y_train)\n",
    "prediction_lr = lr.predict(X_test)"
   ]
  },
  {
   "cell_type": "code",
   "execution_count": null,
   "id": "55cacfa9-a935-458c-a693-bc147810073d",
   "metadata": {},
   "outputs": [],
   "source": [
    "prediction_lr.reshape(669).values.shape"
   ]
  },
  {
   "cell_type": "code",
   "execution_count": null,
   "id": "6bb3083a-a2a1-4043-9bdc-7a76079cd0bc",
   "metadata": {},
   "outputs": [],
   "source": [
    "y_true_test"
   ]
  },
  {
   "cell_type": "code",
   "execution_count": null,
   "id": "fe1a4524-38b8-4eb0-aa56-bff0006459de",
   "metadata": {},
   "outputs": [],
   "source": [
    "# Assicurati che entrambe le variabili siano monodimensionali\n",
    "y_true_test_flat = y_true_test.values.ravel()  # Oppure .flatten()\n",
    "prediction_lr_flat = prediction_lr.reshape(669).ravel()  # Oppure np.squeeze()\n",
    "\n",
    "print(f'Pearson test dirette: {pearsonr(y_true_test_flat, prediction_lr_flat)}')    \n",
    "print(f'RMSE dirette: {root_mean_squared_error(y_true_test_flat, prediction_lr_flat)}')  \n",
    "print(f'MAE dirette: {mean_absolute_error(y_true_test_flat, prediction_lr_flat)}')  "
   ]
  },
  {
   "cell_type": "code",
   "execution_count": null,
   "id": "35d0307e-7a1c-4b38-ab34-4210aa56dfa3",
   "metadata": {},
   "outputs": [],
   "source": [
    "print(f'Pearson test dirette: {pearsonr(y_true_test_flat, X_test.iloc[:,0])}')    \n",
    "print(f'RMSE dirette: {root_mean_squared_error(y_true_test_flat, X_test.iloc[:,0])}')  \n",
    "print(f'MAE dirette: {mean_absolute_error(y_true_test_flat, X_test.iloc[:,0])}')  "
   ]
  },
  {
   "cell_type": "code",
   "execution_count": null,
   "id": "4610c903-b8b7-48ab-9c84-9d4130b997f0",
   "metadata": {},
   "outputs": [],
   "source": []
  },
  {
   "cell_type": "code",
   "execution_count": null,
   "id": "5950ae10-31f9-47a1-aaec-de171423eca9",
   "metadata": {},
   "outputs": [],
   "source": []
  },
  {
   "cell_type": "code",
   "execution_count": null,
   "id": "670c68ce-c0b7-4def-b967-8d3570324d1d",
   "metadata": {},
   "outputs": [],
   "source": [
    "#################FINE"
   ]
  },
  {
   "cell_type": "code",
   "execution_count": null,
   "id": "267ddd4a-880f-4362-98d8-f5fccfbf1cd8",
   "metadata": {},
   "outputs": [],
   "source": [
    "with open('ddg_s2648_ESM2.pkl', 'rb') as f:\n",
    "    dataset_s2648 = pickle.load(f)\n",
    "\n",
    "with open('ddg_s669_ESM2.pkl', 'rb') as f:\n",
    "    dataset_s669 = pickle.load(f)"
   ]
  },
  {
   "cell_type": "code",
   "execution_count": null,
   "id": "87c1ae21-c521-4c46-9470-374043e613d4",
   "metadata": {},
   "outputs": [],
   "source": [
    "\n",
    "# # Creiamo il dataset\n",
    "dataset_train = ProteinDataset(dataset_s2648, threshold=5.0)\n",
    "dataset_test = ProteinDataset(dataset_s669, threshold=5.0)\n",
    "\n",
    "\n",
    "# Creazione di un DataLoader\n",
    "dataloader_train = DataLoader(dataset_train, batch_size=32, shuffle=False)\n",
    "dataloader_test = DataLoader(dataset_test, batch_size=32, shuffle=False)"
   ]
  },
  {
   "cell_type": "code",
   "execution_count": null,
   "id": "3bc1d9c2-7b09-45a3-b47d-669c5c145ec2",
   "metadata": {},
   "outputs": [],
   "source": [
    "dic_embedding_aa = {}\n",
    "ordine_aa = {}\n",
    "\n",
    "aa_a = \"ACDEFGHIKLMNPQRSTVWY\"\n",
    "\n",
    "ind_pos = 0\n",
    "for name_aa in [*aa_a]:\n",
    "    dic_embedding_aa[name_aa] = np.zeros(20)\n",
    "    dic_embedding_aa[name_aa][ind_pos] = 1\n",
    "\n",
    "    ordine_aa[name_aa] = ind_pos\n",
    "\n",
    "    ind_pos+=1\n"
   ]
  },
  {
   "cell_type": "code",
   "execution_count": null,
   "id": "fd84332f-a5c7-4bb1-aede-ccf84b9e7b03",
   "metadata": {},
   "outputs": [],
   "source": [
    "info_letters_test = []\n",
    "info_letters_train = []\n",
    "info_mutation_test = []\n",
    "info_mutation_train = []\n",
    "\n",
    "for batch in dataloader_test:\n",
    "    info_letters_test = []\n",
    "    \n",
    "    for batch_i in range(len(batch['id'])):\n",
    "        vector_w = [1 if i == 1 else 0 for i in batch['V'][batch_i][:]]\n",
    "        vector_m = [1 if i == -1 else 0 for i in batch['V'][batch_i][:]]\n",
    "        letter_w = next((k for k, v in dic_embedding_aa.items() if (v == vector_w).all()), None)\n",
    "        letter_m = next((k for k, v in dic_embedding_aa.items() if (v == vector_m).all()), None)\n",
    "        letters = [letter_w + letter_m]\n",
    "        info_letters_test.extend(letters)\n",
    "\n",
    "    info_mutation_test.extend([id+l[0]+str(pos)+l[-1] for id, pos, l in zip(batch['id'],batch['position'].tolist(), info_letters_test)])\n",
    "    \n",
    "\n",
    "for batch in dataloader_train:\n",
    "    info_letters_train = []\n",
    "    for batch_i in range(len(batch['id'])):\n",
    "        vector_w = [1 if i == 1 else 0 for i in batch['V'][batch_i][:]]\n",
    "        vector_m = [1 if i == -1 else 0 for i in batch['V'][batch_i][:]]\n",
    "        letter_w = next((k for k, v in dic_embedding_aa.items() if (v == vector_w).all()), None)\n",
    "        letter_m = next((k for k, v in dic_embedding_aa.items() if (v == vector_m).all()), None)\n",
    "        letters = [letter_w + letter_m]\n",
    "        info_letters_train.extend(letters)\n",
    "\n",
    "    info_mutation_train.extend([id+l[0]+str(pos)+l[-1] for id, pos, l in zip(batch['id'],batch['position'].tolist(), info_letters_train)])\n",
    "\n"
   ]
  },
  {
   "cell_type": "code",
   "execution_count": null,
   "id": "cab45e0f-fa6a-4086-935e-3938844ac5ef",
   "metadata": {},
   "outputs": [],
   "source": [
    "len(info_mutation_train)"
   ]
  },
  {
   "cell_type": "code",
   "execution_count": null,
   "id": "695c3c7f-3d36-4e11-a170-735f19109641",
   "metadata": {},
   "outputs": [],
   "source": [
    "# Assicurati che il modello sia in modalità di valutazione\n",
    "DDG_model.eval()\n",
    "\n",
    "# Lista per salvare tutte le predizioni\n",
    "all_predictions_test = []\n",
    "all_predictions_train = []\n",
    "\n",
    "all_lables_train = []\n",
    "all_lables_test = []\n",
    "\n",
    "with torch.no_grad():  # Disable gradient calculation\n",
    "    for i, batch in enumerate(dataloader_test):\n",
    "        graph_x = batch.x.float().to(device)   #wild_type\n",
    "        graph_edge_index = batch.edge_index.to(device)   #wild_type\n",
    "        graph_batch = batch.batch.to(device)   #wild_type\n",
    "        labels = batch.y.float().float().to(device)\n",
    "        position_wild = position_adj(batch.position, batch.ptr)\n",
    "        position_mut = position_mut_adj(batch.position, batch.ptr)\n",
    "        intervallo_wild = edge_index_wild(graph_x, batch.ptr)\n",
    "        intervallo_mut = edge_index_mut(graph_x, batch.ptr)\n",
    "        V = batch.V\n",
    "        edge_weights = batch.edge_weight\n",
    "        predictions = DDG_model(graph_x, graph_edge_index, labels,position_wild,position_mut, V,\n",
    "                        edge_weights = edge_weights,intervallo_wild= intervallo_wild,intervallo_mut =intervallo_mut)  \n",
    "            \n",
    "        all_predictions_test.append(predictions)\n",
    "        all_lables_test.append(labels)\n",
    "\n",
    "\n",
    "with torch.no_grad():  # Disable gradient calculation\n",
    "    for i, batch in enumerate(dataloader_train):\n",
    "        graph_x = batch.x.float().to(device)   #wild_type\n",
    "        graph_edge_index = batch.edge_index.to(device)   #wild_type\n",
    "        graph_batch = batch.batch.to(device)   #wild_type\n",
    "        labels = batch.y.float().float().to(device)\n",
    "        position_wild = position_adj(batch.position, batch.ptr)\n",
    "        position_mut = position_mut_adj(batch.position, batch.ptr)\n",
    "        intervallo_wild = edge_index_wild(graph_x, batch.ptr)\n",
    "        intervallo_mut = edge_index_mut(graph_x, batch.ptr)\n",
    "        V = batch.V\n",
    "        edge_weights = batch.edge_weight\n",
    "        predictions = DDG_model(graph_x, graph_edge_index, labels,position_wild,position_mut, V,\n",
    "                        edge_weights = edge_weights,intervallo_wild= intervallo_wild,intervallo_mut =intervallo_mut) \n",
    "\n",
    "        \n",
    "        # Aggiungi le predizioni alla lista\n",
    "        all_predictions_train.append(predictions)\n",
    "        all_lables_train.append(labels)\n"
   ]
  },
  {
   "cell_type": "code",
   "execution_count": null,
   "id": "cb2fdd0e-7e05-4a49-8c1b-db7b289aabe6",
   "metadata": {},
   "outputs": [],
   "source": [
    "all_predictions_test = torch.cat([i[0] for i in all_predictions_test], dim=0)\n",
    "all_predictions_train = torch.cat([i[0] for i in all_predictions_train], dim=0)"
   ]
  },
  {
   "cell_type": "code",
   "execution_count": null,
   "id": "ebcf0cb5-633f-4d78-9876-0f7bdae04629",
   "metadata": {},
   "outputs": [],
   "source": [
    "all_predictions_train_dir = all_predictions_train[:int(all_predictions_train.shape[0]/2)]\n",
    "all_predictions_train_inv = all_predictions_train[int(all_predictions_train.shape[0]/2):]"
   ]
  },
  {
   "cell_type": "code",
   "execution_count": null,
   "id": "7f8f7404-755a-457e-a7da-12cdabf9ee7d",
   "metadata": {},
   "outputs": [],
   "source": [
    "all_predictions_test_dir = all_predictions_test[:int(all_predictions_test.shape[0]/2)]\n",
    "all_predictions_test_inv = all_predictions_test[int(all_predictions_test.shape[0]/2):]"
   ]
  },
  {
   "cell_type": "code",
   "execution_count": null,
   "id": "4eea3b27-42aa-4459-bfd2-442daa99c862",
   "metadata": {},
   "outputs": [],
   "source": [
    "from scipy.stats import pearsonr\n",
    "pearsonr(all_predictions_test_dir.cpu(),all_predictions_test_inv.cpu())"
   ]
  },
  {
   "cell_type": "code",
   "execution_count": null,
   "id": "91955d77-5468-454e-9dd5-0243644751da",
   "metadata": {},
   "outputs": [],
   "source": [
    "from scipy.stats import pearsonr\n",
    "pearsonr(all_predictions_train.cpu(),torch.cat(all_lables_train, dim=0).cpu())"
   ]
  },
  {
   "cell_type": "code",
   "execution_count": null,
   "id": "aee8279c-1a5a-4acf-9358-f7e7b2386ddd",
   "metadata": {},
   "outputs": [],
   "source": [
    "prediction_guido_test = pd.DataFrame(np.array([info_mutation_test, all_predictions_test.cpu().numpy()]).T)\n",
    "prediction_guido_train = pd.DataFrame(np.array([info_mutation_train, all_predictions_train.cpu().numpy()]).T)"
   ]
  },
  {
   "cell_type": "code",
   "execution_count": null,
   "id": "54c1eaf7-3939-49e9-a135-182b84877a34",
   "metadata": {},
   "outputs": [],
   "source": [
    "prediction_guido_train.drop_duplicates(subset=[0])"
   ]
  },
  {
   "cell_type": "code",
   "execution_count": null,
   "id": "3a45bb2a-f484-415f-9cb0-8e8e7df58621",
   "metadata": {},
   "outputs": [],
   "source": [
    "prediction_guido_train.iloc[:,1] = prediction_guido_train.iloc[:,1].map(lambda x: float(x))"
   ]
  },
  {
   "cell_type": "code",
   "execution_count": null,
   "id": "f9603ed6-2d54-4c63-9b1d-13f439cd118e",
   "metadata": {},
   "outputs": [],
   "source": [
    "#prediction_guido_train.iloc[:,1] = -prediction_guido_train.iloc[:,1]\n",
    "prediction_guido_train"
   ]
  },
  {
   "cell_type": "code",
   "execution_count": null,
   "id": "cd1dfe35-a149-4670-893e-80f0b6528db6",
   "metadata": {},
   "outputs": [],
   "source": [
    "assert False"
   ]
  },
  {
   "cell_type": "code",
   "execution_count": null,
   "id": "02f229fc-9b26-47fc-9389-2e01966301ac",
   "metadata": {},
   "outputs": [],
   "source": [
    "prediction_guido_test.to_pickle('prediction_guido_test.pkl')\n",
    "prediction_guido_train.to_pickle('prediction_guido_train.pkl')\n"
   ]
  },
  {
   "cell_type": "code",
   "execution_count": null,
   "id": "ff3895da-089f-43c5-9c2c-33e3badf6a53",
   "metadata": {},
   "outputs": [],
   "source": [
    "pd.read_pickle('../DeltaDeltaG/prediction_guido_test.pkl')"
   ]
  },
  {
   "cell_type": "code",
   "execution_count": null,
   "id": "fc43239c-2d26-4eae-b139-18d5a1897470",
   "metadata": {},
   "outputs": [],
   "source": [
    "torch.save(DDG_model.state_dict(), 'model_weights_pyhzia.pth')"
   ]
  },
  {
   "cell_type": "code",
   "execution_count": null,
   "id": "a13b4661-f10c-4b38-b79e-769d6b5a4763",
   "metadata": {},
   "outputs": [],
   "source": [
    "assert False"
   ]
  },
  {
   "cell_type": "code",
   "execution_count": null,
   "id": "4cc9d111-4bfa-4e3e-b486-5f2b42bd4d98",
   "metadata": {},
   "outputs": [],
   "source": [
    "len([float(d['ddg']) for d in dataset_s2648])"
   ]
  },
  {
   "cell_type": "code",
   "execution_count": null,
   "id": "ad88b791-ef3b-4be2-84c9-b18ff69f337d",
   "metadata": {},
   "outputs": [],
   "source": [
    "all_predictions_test"
   ]
  },
  {
   "cell_type": "code",
   "execution_count": null,
   "id": "a7c46748-a8fb-4a2c-93b8-3ac269b3c18c",
   "metadata": {},
   "outputs": [],
   "source": [
    "sns.displot(x=[float(d['ddg']) for d in dataset_s669] + all_predictions_test.tolist(),\n",
    "            hue=([\"true\"] * len(dataset_s669) + [\"pred\"] * len(dataset_s669)))"
   ]
  },
  {
   "cell_type": "code",
   "execution_count": null,
   "id": "27693c02-73ae-4ca2-ad48-2ab665a0e3d8",
   "metadata": {},
   "outputs": [],
   "source": [
    "sns.displot(x=[float(d['ddg']) for d in dataset_s2648] + prediction_guido_train[1].tolist(),\n",
    "            hue=([\"true\"] * len(dataset_s2648) + [\"pred\"] * len(dataset_s2648)))\n"
   ]
  },
  {
   "cell_type": "code",
   "execution_count": null,
   "id": "e255bc5e-eeb9-4be3-8849-dd588580165f",
   "metadata": {},
   "outputs": [],
   "source": [
    "len(prediction_guido_train[1].tolist())"
   ]
  },
  {
   "cell_type": "code",
   "execution_count": null,
   "id": "dc4aa8a7-39d6-49e8-9301-5408400d0ef1",
   "metadata": {},
   "outputs": [],
   "source": [
    "sns.displot([float(true['ddg']) for true in dataset_s669])"
   ]
  },
  {
   "cell_type": "code",
   "execution_count": null,
   "id": "92fab0ab-0458-4c09-ae1d-433d23fc8544",
   "metadata": {},
   "outputs": [],
   "source": [
    "sns.displot(prediction_guido_test.iloc[:,1].values.astype(float))"
   ]
  },
  {
   "cell_type": "code",
   "execution_count": null,
   "id": "57ffe30b-2757-4275-99d6-94ef547f3e6b",
   "metadata": {},
   "outputs": [],
   "source": [
    "plt.clf()\n",
    "sns.scatterplot(y = prediction_guido_test.iloc[:,1].values.astype(float), x= [float(true['ddg']) for true in dataset_s669])\n",
    "sns.scatterplot(y =  [float(true['ddg']) for true in dataset_s669],x= [float(true['ddg']) for true in dataset_s669])\n",
    "plt.xlabel('True')\n",
    "plt.ylabel('Pred')\n",
    "plt.savefig('prova.pdf')\n",
    "\n",
    "#plt.yscale('log')"
   ]
  },
  {
   "cell_type": "code",
   "execution_count": null,
   "id": "30dbbdeb-f8d5-4f73-aeac-669adad74b31",
   "metadata": {},
   "outputs": [],
   "source": [
    "pearsonr(prediction_guido_test.iloc[:,1].values.astype(float),[float(true['ddg']) for true in dataset_s669])"
   ]
  },
  {
   "cell_type": "code",
   "execution_count": null,
   "id": "1264a83d-b099-4fa5-9e02-3c4f6cec19e5",
   "metadata": {},
   "outputs": [],
   "source": []
  }
 ],
 "metadata": {
  "kernelspec": {
   "display_name": "Python 3 (ipykernel)",
   "language": "python",
   "name": "python3"
  },
  "language_info": {
   "codemirror_mode": {
    "name": "ipython",
    "version": 3
   },
   "file_extension": ".py",
   "mimetype": "text/x-python",
   "name": "python",
   "nbconvert_exporter": "python",
   "pygments_lexer": "ipython3",
   "version": "3.11.5"
  }
 },
 "nbformat": 4,
 "nbformat_minor": 5
}
